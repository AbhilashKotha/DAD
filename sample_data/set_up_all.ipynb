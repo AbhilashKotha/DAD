{
 "cells": [
  {
   "cell_type": "code",
   "execution_count": 7,
   "id": "6c6f1a77",
   "metadata": {},
   "outputs": [],
   "source": [
    "load_attach_path('/home/ben/Database/')"
   ]
  },
  {
   "cell_type": "code",
   "execution_count": 8,
   "id": "0668407f",
   "metadata": {},
   "outputs": [],
   "source": [
    "load(\"setup_tables/setup_all.py\")"
   ]
  },
  {
   "cell_type": "code",
   "execution_count": 4,
   "id": "25ee2a0a",
   "metadata": {},
   "outputs": [],
   "source": [
    "my_cursor.description"
   ]
  },
  {
   "cell_type": "code",
   "execution_count": null,
   "id": "8d5a07f4",
   "metadata": {},
   "outputs": [],
   "source": []
  }
 ],
 "metadata": {
  "kernelspec": {
   "display_name": "SageMath 10.0",
   "language": "sage",
   "name": "sagemath"
  },
  "language_info": {
   "codemirror_mode": {
    "name": "ipython",
    "version": 3
   },
   "file_extension": ".py",
   "mimetype": "text/x-python",
   "name": "python",
   "nbconvert_exporter": "python",
   "pygments_lexer": "ipython3",
   "version": "3.8.10"
  }
 },
 "nbformat": 4,
 "nbformat_minor": 5
}
