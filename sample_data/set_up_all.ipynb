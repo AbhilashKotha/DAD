{
 "cells": [
  {
   "cell_type": "code",
   "execution_count": 1,
   "id": "6c6f1a77",
   "metadata": {},
   "outputs": [],
   "source": [
    "load_attach_path('/home/ben/DynaBase/')"
   ]
  },
  {
   "cell_type": "code",
   "execution_count": 2,
   "id": "8a64536e",
   "metadata": {},
   "outputs": [],
   "source": [
    "load(\"connect.py\")"
   ]
  },
  {
   "cell_type": "code",
   "execution_count": null,
   "id": "0668407f",
   "metadata": {},
   "outputs": [],
   "source": [
    "load(\"setup_tables/setup_all.py\")"
   ]
  },
  {
   "cell_type": "code",
   "execution_count": 4,
   "id": "25ee2a0a",
   "metadata": {},
   "outputs": [],
   "source": [
    "my_cursor.description"
   ]
  },
  {
   "cell_type": "code",
   "execution_count": null,
   "id": "e49eaa7d",
   "metadata": {},
   "outputs": [],
   "source": []
  },
  {
   "cell_type": "code",
   "execution_count": null,
   "id": "6a9867de",
   "metadata": {},
   "outputs": [],
   "source": []
  },
  {
   "cell_type": "code",
   "execution_count": 5,
   "id": "8d5a07f4",
   "metadata": {},
   "outputs": [],
   "source": [
    "load(\"connect.py\")\n",
    "function_label_length= int(25)\n",
    "field_label_length= int(15)\n",
    "load(\"setup_tables/families_dim_1_setup.py\")"
   ]
  },
  {
   "cell_type": "code",
   "execution_count": null,
   "id": "74887f62",
   "metadata": {},
   "outputs": [],
   "source": []
  }
 ],
 "metadata": {
  "kernelspec": {
   "display_name": "SageMath 10.0",
   "language": "sage",
   "name": "sagemath"
  },
  "language_info": {
   "codemirror_mode": {
    "name": "ipython",
    "version": 3
   },
   "file_extension": ".py",
   "mimetype": "text/x-python",
   "name": "python",
   "nbconvert_exporter": "python",
   "pygments_lexer": "ipython3",
   "version": "3.10.12"
  }
 },
 "nbformat": 4,
 "nbformat_minor": 5
}
