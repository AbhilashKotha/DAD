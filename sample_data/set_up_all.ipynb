{
 "cells": [
  {
   "cell_type": "code",
   "execution_count": 7,
   "id": "6c6f1a77",
   "metadata": {},
   "outputs": [],
   "source": [
    "load_attach_path('/home/ben/DynaBase/')"
   ]
  },
  {
   "cell_type": "code",
   "execution_count": 7,
   "id": "8a64536e",
   "metadata": {},
   "outputs": [],
   "source": [
    "load(\"connect.py\")"
   ]
  },
  {
   "cell_type": "code",
   "execution_count": 10,
   "id": "36c3da02",
   "metadata": {},
   "outputs": [],
   "source": [
    "load(\"setup_tables/families_dim_1_setup.py\")"
   ]
  },
  {
   "cell_type": "code",
   "execution_count": 6,
   "id": "0668407f",
   "metadata": {},
   "outputs": [
    {
     "ename": "InterfaceError",
     "evalue": "connection already closed",
     "output_type": "error",
     "traceback": [
      "\u001b[0;31m---------------------------------------------------------------------------\u001b[0m",
      "\u001b[0;31mInterfaceError\u001b[0m                            Traceback (most recent call last)",
      "Cell \u001b[0;32mIn [6], line 1\u001b[0m\n\u001b[0;32m----> 1\u001b[0m \u001b[43mload\u001b[49m\u001b[43m(\u001b[49m\u001b[38;5;124;43m\"\u001b[39;49m\u001b[38;5;124;43msetup_tables/setup_all.py\u001b[39;49m\u001b[38;5;124;43m\"\u001b[39;49m\u001b[43m)\u001b[49m\n",
      "File \u001b[0;32m~/sage-rel/sage/src/sage/misc/persist.pyx:175\u001b[0m, in \u001b[0;36msage.misc.persist.load\u001b[0;34m()\u001b[0m\n\u001b[1;32m    173\u001b[0m \n\u001b[1;32m    174\u001b[0m     if sage.repl.load.is_loadable_filename(filename):\n\u001b[0;32m--> 175\u001b[0m         sage.repl.load.load(filename, globals())\n\u001b[1;32m    176\u001b[0m         return\n\u001b[1;32m    177\u001b[0m \n",
      "File \u001b[0;32m~/sage-rel/sage/src/sage/repl/load.py:252\u001b[0m, in \u001b[0;36mload\u001b[0;34m(filename, globals, attach)\u001b[0m\n\u001b[1;32m    250\u001b[0m     \u001b[38;5;28;01mwith\u001b[39;00m \u001b[38;5;28mopen\u001b[39m(fpath) \u001b[38;5;28;01mas\u001b[39;00m f:\n\u001b[1;32m    251\u001b[0m         code \u001b[38;5;241m=\u001b[39m \u001b[38;5;28mcompile\u001b[39m(f\u001b[38;5;241m.\u001b[39mread(), fpath, \u001b[38;5;124m'\u001b[39m\u001b[38;5;124mexec\u001b[39m\u001b[38;5;124m'\u001b[39m)\n\u001b[0;32m--> 252\u001b[0m         \u001b[43mexec\u001b[49m\u001b[43m(\u001b[49m\u001b[43mcode\u001b[49m\u001b[43m,\u001b[49m\u001b[43m \u001b[49m\u001b[38;5;28;43mglobals\u001b[39;49m\u001b[43m)\u001b[49m\n\u001b[1;32m    253\u001b[0m \u001b[38;5;28;01melif\u001b[39;00m ext \u001b[38;5;241m==\u001b[39m \u001b[38;5;124m'\u001b[39m\u001b[38;5;124m.sage\u001b[39m\u001b[38;5;124m'\u001b[39m:\n\u001b[1;32m    254\u001b[0m     \u001b[38;5;28;01mfrom\u001b[39;00m \u001b[38;5;21;01msage\u001b[39;00m\u001b[38;5;21;01m.\u001b[39;00m\u001b[38;5;21;01mrepl\u001b[39;00m\u001b[38;5;21;01m.\u001b[39;00m\u001b[38;5;21;01mattach\u001b[39;00m \u001b[38;5;28;01mimport\u001b[39;00m load_attach_mode\n",
      "File \u001b[0;32m~/DynaBase/setup_tables/setup_all.py:70\u001b[0m\n\u001b[1;32m     67\u001b[0m load(\u001b[38;5;124m\"\u001b[39m\u001b[38;5;124msetup_tables/families_dim_1_setup.py\u001b[39m\u001b[38;5;124m\"\u001b[39m)\n\u001b[1;32m     68\u001b[0m load(\u001b[38;5;124m\"\u001b[39m\u001b[38;5;124msetup_tables/citations_setup.py\u001b[39m\u001b[38;5;124m\"\u001b[39m)\n\u001b[0;32m---> 70\u001b[0m \u001b[43mmy_session\u001b[49m\u001b[38;5;241;43m.\u001b[39;49m\u001b[43mcommit\u001b[49m\u001b[43m(\u001b[49m\u001b[43m)\u001b[49m\n",
      "\u001b[0;31mInterfaceError\u001b[0m: connection already closed"
     ]
    }
   ],
   "source": [
    "load(\"setup_tables/setup_all.py\")"
   ]
  },
  {
   "cell_type": "code",
   "execution_count": 4,
   "id": "25ee2a0a",
   "metadata": {},
   "outputs": [],
   "source": [
    "my_cursor.description"
   ]
  },
  {
   "cell_type": "code",
   "execution_count": null,
   "id": "e49eaa7d",
   "metadata": {},
   "outputs": [],
   "source": []
  },
  {
   "cell_type": "code",
   "execution_count": null,
   "id": "6a9867de",
   "metadata": {},
   "outputs": [],
   "source": []
  },
  {
   "cell_type": "code",
   "execution_count": 5,
   "id": "8d5a07f4",
   "metadata": {},
   "outputs": [],
   "source": [
    "load(\"connect.py\")\n",
    "function_label_length= int(25)\n",
    "field_label_length= int(15)\n",
    "load(\"setup_tables/families_dim_1_setup.py\")"
   ]
  },
  {
   "cell_type": "code",
   "execution_count": null,
   "id": "74887f62",
   "metadata": {},
   "outputs": [],
   "source": []
  }
 ],
 "metadata": {
  "kernelspec": {
   "display_name": "SageMath 10.0",
   "language": "sage",
   "name": "sagemath"
  },
  "language_info": {
   "codemirror_mode": {
    "name": "ipython",
    "version": 3
   },
   "file_extension": ".py",
   "mimetype": "text/x-python",
   "name": "python",
   "nbconvert_exporter": "python",
   "pygments_lexer": "ipython3",
   "version": "3.10.12"
  }
 },
 "nbformat": 4,
 "nbformat_minor": 5
}
