{
 "cells": [
  {
   "cell_type": "code",
   "execution_count": null,
   "id": "c668818b",
   "metadata": {},
   "outputs": [],
   "source": [
    "load_attach_path('/home/ben/DynaBase/')\n",
    "import sys\n",
    "sys.path.append(\"/home/ben/DynaBase\")"
   ]
  },
  {
   "cell_type": "code",
   "execution_count": null,
   "id": "70d2c2ca",
   "metadata": {},
   "outputs": [],
   "source": [
    "#load(\"fields/field_helpers_NF.py\")\n",
    "#load(\"functions/families_dim_1_helpers_NF.py\")"
   ]
  },
  {
   "cell_type": "code",
   "execution_count": null,
   "id": "a4937d24",
   "metadata": {},
   "outputs": [],
   "source": [
    "import psycopg2\n",
    "import psycopg2.extras\n",
    "my_session = psycopg2.connect(database=\"dad\",\n",
    "            host=\"localhost\",\n",
    "            user=\"dad_user\",\n",
    "            password=\"dad_pass\",\n",
    "            port=\"5432\")\n",
    "    \n",
    "my_cursor = my_session.cursor(cursor_factory=psycopg2.extras.DictCursor)"
   ]
  },
  {
   "cell_type": "code",
   "execution_count": null,
   "id": "b2121ece",
   "metadata": {},
   "outputs": [],
   "source": [
    "load(\"sample_data/add_families.py\")"
   ]
  },
  {
   "cell_type": "code",
   "execution_count": null,
   "id": "07356301",
   "metadata": {},
   "outputs": [],
   "source": [
    "import_statements('ConwayPolynomials')"
   ]
  },
  {
   "cell_type": "code",
   "execution_count": null,
   "id": "48d0d0d3",
   "metadata": {},
   "outputs": [],
   "source": [
    "R.<c>=QQ[]\n",
    "P.<x,y>=ProjectiveSpace(R,1)\n",
    "F=DynamicalSystem([x^2+c*y^2,y^2])\n",
    "add_family_NF(F, my_cursor, is_poly=True, is_Newton=False, is_Lattes=False, num_crit=2, num_aut=1)"
   ]
  },
  {
   "cell_type": "code",
   "execution_count": null,
   "id": "54765321",
   "metadata": {},
   "outputs": [],
   "source": [
    "my_session.commit()"
   ]
  },
  {
   "cell_type": "code",
   "execution_count": null,
   "id": "7ab1fd79",
   "metadata": {},
   "outputs": [],
   "source": []
  }
 ],
 "metadata": {
  "kernelspec": {
   "display_name": "SageMath 10.0",
   "language": "sage",
   "name": "sagemath"
  },
  "language_info": {
   "codemirror_mode": {
    "name": "ipython",
    "version": 3
   },
   "file_extension": ".py",
   "mimetype": "text/x-python",
   "name": "python",
   "nbconvert_exporter": "python",
   "pygments_lexer": "ipython3",
   "version": "3.10.12"
  }
 },
 "nbformat": 4,
 "nbformat_minor": 5
}
