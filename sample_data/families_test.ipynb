{
 "cells": [
  {
   "cell_type": "code",
   "execution_count": 1,
   "id": "c668818b",
   "metadata": {},
   "outputs": [],
   "source": [
    "load_attach_path('/home/ben/Database/')"
   ]
  },
  {
   "cell_type": "code",
   "execution_count": 17,
   "id": "70d2c2ca",
   "metadata": {},
   "outputs": [],
   "source": [
    "load(\"fields/field_helpers_NF.py\")\n",
    "load(\"functions/families_dim_1_helpers_NF.py\")"
   ]
  },
  {
   "cell_type": "code",
   "execution_count": 18,
   "id": "a4937d24",
   "metadata": {},
   "outputs": [],
   "source": [
    "import psycopg2\n",
    "import psycopg2.extras\n",
    "my_session = psycopg2.connect(database=\"dad\",\n",
    "            host=\"localhost\",\n",
    "            user=\"dad_user\",\n",
    "            password=\"dad_pass\",\n",
    "            port=\"5432\")\n",
    "    \n",
    "my_cursor = my_session.cursor(cursor_factory=psycopg2.extras.DictCursor)"
   ]
  },
  {
   "cell_type": "code",
   "execution_count": 19,
   "id": "b2121ece",
   "metadata": {},
   "outputs": [
    {
     "name": "stdout",
     "output_type": "stream",
     "text": [
      "Searching for functions: 1.2.531212ef.1: model computed: \n",
      "inserted: [x^2 + c*y^2, y^2] as 1.2.531212ef.1\n",
      "updated 1 functions for sigma.2\n",
      "updated 1 functions for sigma.3\n",
      "new citations list for 1.2.531212ef.1 is [4]\n"
     ]
    }
   ],
   "source": [
    "load(\"sample_data/add_families.py\")"
   ]
  },
  {
   "cell_type": "code",
   "execution_count": 7,
   "id": "48d0d0d3",
   "metadata": {},
   "outputs": [
    {
     "name": "stdout",
     "output_type": "stream",
     "text": [
      "Searching for functions: 1.2.531212ef.1: family already known : [x^2 + c*y^2, y^2] as 1.2.531212ef.1\n"
     ]
    },
    {
     "data": {
      "text/plain": [
       "'1.2.531212ef.1'"
      ]
     },
     "execution_count": 7,
     "metadata": {},
     "output_type": "execute_result"
    }
   ],
   "source": [
    "R.<c>=QQ[]\n",
    "P.<x,y>=ProjectiveSpace(R,1)\n",
    "F=DynamicalSystem([x^2+c*y^2,y^2])\n",
    "add_family_NF(F, is_poly=True, is_Newton=False, is_Lattes=False, num_crit=2, num_aut=1)"
   ]
  },
  {
   "cell_type": "code",
   "execution_count": 20,
   "id": "54765321",
   "metadata": {},
   "outputs": [
    {
     "ename": "InterfaceError",
     "evalue": "connection already closed",
     "output_type": "error",
     "traceback": [
      "\u001b[0;31m---------------------------------------------------------------------------\u001b[0m",
      "\u001b[0;31mInterfaceError\u001b[0m                            Traceback (most recent call last)",
      "Cell \u001b[0;32mIn [20], line 1\u001b[0m\n\u001b[0;32m----> 1\u001b[0m \u001b[43mmy_session\u001b[49m\u001b[38;5;241;43m.\u001b[39;49m\u001b[43mcommit\u001b[49m\u001b[43m(\u001b[49m\u001b[43m)\u001b[49m\n",
      "\u001b[0;31mInterfaceError\u001b[0m: connection already closed"
     ]
    }
   ],
   "source": [
    "my_session.commit()"
   ]
  },
  {
   "cell_type": "code",
   "execution_count": null,
   "id": "7ab1fd79",
   "metadata": {},
   "outputs": [],
   "source": []
  }
 ],
 "metadata": {
  "kernelspec": {
   "display_name": "SageMath 10.0",
   "language": "sage",
   "name": "sagemath"
  },
  "language_info": {
   "codemirror_mode": {
    "name": "ipython",
    "version": 3
   },
   "file_extension": ".py",
   "mimetype": "text/x-python",
   "name": "python",
   "nbconvert_exporter": "python",
   "pygments_lexer": "ipython3",
   "version": "3.8.10"
  }
 },
 "nbformat": 4,
 "nbformat_minor": 5
}
