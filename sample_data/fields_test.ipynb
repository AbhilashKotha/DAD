{
 "cells": [
  {
   "cell_type": "code",
   "execution_count": null,
   "id": "da562723",
   "metadata": {},
   "outputs": [],
   "source": [
    "load_attach_path('/home/ben/DynaBase/')\n",
    "import sys\n",
    "sys.path.append(\"/home/ben/DynaBase\")"
   ]
  },
  {
   "cell_type": "code",
   "execution_count": null,
   "id": "c5d3a59f",
   "metadata": {},
   "outputs": [],
   "source": [
    "#load(\"fields/field_helpers_NF.py\")\n",
    "#load(\"fields/field_helpers_FF.py\")"
   ]
  },
  {
   "cell_type": "code",
   "execution_count": null,
   "id": "420c2cd4",
   "metadata": {},
   "outputs": [],
   "source": [
    "load(\"sample_data/add_fields.py\")"
   ]
  },
  {
   "cell_type": "code",
   "execution_count": null,
   "id": "006085b0",
   "metadata": {},
   "outputs": [],
   "source": [
    "my_session.commit()"
   ]
  },
  {
   "cell_type": "code",
   "execution_count": null,
   "id": "8db701b8",
   "metadata": {},
   "outputs": [],
   "source": [
    "import psycopg2\n",
    "import psycopg2.extras\n",
    "my_session = psycopg2.connect(database=\"dad\",\n",
    "            host=\"localhost\",\n",
    "            user=\"dad_user\",\n",
    "            password=\"dad_pass\",\n",
    "            port=\"5432\")\n",
    "    \n",
    "my_cursor = my_session.cursor(cursor_factory=psycopg2.extras.DictCursor)\n"
   ]
  },
  {
   "cell_type": "code",
   "execution_count": null,
   "id": "53423035",
   "metadata": {},
   "outputs": [],
   "source": [
    "my_cursor.execute(\"\"\"SELECT * FROM number_fields\"\"\")\n",
    "my_cursor.rowcount"
   ]
  },
  {
   "cell_type": "code",
   "execution_count": null,
   "id": "6591c028",
   "metadata": {},
   "outputs": [],
   "source": [
    "field_query = {}\n",
    "K.<v>=QuadraticField(2)\n",
    "if K in NumberFields():\n",
    "    if K == QQ:\n",
    "        label = '1.1.1.'\n",
    "    else:\n",
    "        label = str(K.degree()) + '.' + str(K.signature()[0]) + '.' + str(K.discriminant().abs()) + '.'\n",
    "else:\n",
    "    raise NotImplementedError(\"only number fields\")\n",
    "\n",
    "#take into account distinct fields with the same initial label values\n",
    "field_query['label'] = label+'%'\n",
    "my_cursor.execute(\"\"\"SELECT label FROM number_fields WHERE label LIKE %(label)s\"\"\",field_query)"
   ]
  },
  {
   "cell_type": "code",
   "execution_count": null,
   "id": "83914f59",
   "metadata": {},
   "outputs": [],
   "source": [
    "my_cursor.rowcount"
   ]
  },
  {
   "cell_type": "code",
   "execution_count": null,
   "id": "1295525f",
   "metadata": {},
   "outputs": [],
   "source": [
    "my_cursor.execute(\"\"\"SELECT * FROM number_fields\n",
    "    WHERE label LIKE '2.0.1%'\n",
    "    \"\"\")\n",
    "my_cursor.rowcount"
   ]
  },
  {
   "cell_type": "code",
   "execution_count": null,
   "id": "eae3951e",
   "metadata": {},
   "outputs": [],
   "source": [
    "K=QuadraticField(2)\n",
    "label = str(K.degree()) + '.' + str(K.signature()[0]) + '.' + str(K.discriminant().abs()) + '.%'\n",
    "my_cursor.execute(\"\"\"SELECT * FROM number_fields\n",
    "    WHERE label LIKE %s\n",
    "    \"\"\",[label])\n",
    "my_cursor.rowcount"
   ]
  },
  {
   "cell_type": "code",
   "execution_count": null,
   "id": "da97c094",
   "metadata": {},
   "outputs": [],
   "source": [
    "K.<v>=QuadraticField(-103)\n",
    "K.class_number()"
   ]
  },
  {
   "cell_type": "code",
   "execution_count": null,
   "id": "b021d7c5",
   "metadata": {},
   "outputs": [],
   "source": []
  },
  {
   "cell_type": "code",
   "execution_count": null,
   "id": "4d33332d",
   "metadata": {},
   "outputs": [],
   "source": [
    "search_label = str(K.degree()) + '\\\\.' + str(K.signature()[0]) + '\\\\.' + str(K.discriminant().abs()) + '\\\\.'"
   ]
  },
  {
   "cell_type": "code",
   "execution_count": null,
   "id": "9fb38995",
   "metadata": {},
   "outputs": [],
   "source": [
    "D={'field_label':'2.2.24.1'}\n",
    "my_cursor.execute(\"\"\"SELECT * FROM finite_fields WHERE label=%(field_label)s\"\"\",D)\n",
    "F = my_cursor.fetchone()\n",
    "R = PolynomialRing(QQ,'X')\n",
    "def_poly = R(F['defn_poly_coeffs'])\n",
    "base_field = GF(F['characteristic']**F['degree'], 'a', modulus=def_poly)"
   ]
  },
  {
   "cell_type": "code",
   "execution_count": null,
   "id": "2daaf894",
   "metadata": {},
   "outputs": [],
   "source": [
    "def_poly = K.defining_polynomial()\n",
    "def_poly_new, gen = pari(def_poly).polredabs(1)\n",
    "def_poly_new.sage({def_poly.parent().variable_names()[0]:def_poly.parent().gen(0)})"
   ]
  },
  {
   "cell_type": "code",
   "execution_count": null,
   "id": "eb878959",
   "metadata": {},
   "outputs": [],
   "source": [
    "print(my_cursor.description)\n",
    "my_cursor.execute(\"\"\"SELECT * FROM number_fields\"\"\")\n",
    "print(my_cursor.fetchall())"
   ]
  },
  {
   "cell_type": "code",
   "execution_count": null,
   "id": "8379057a",
   "metadata": {},
   "outputs": [],
   "source": [
    "print(my_cursor.description)\n",
    "my_cursor.execute(\"\"\"SELECT * FROM number_fields\"\"\")\n",
    "for row in my_cursor.fetchall():\n",
    "    print(row['label'])"
   ]
  },
  {
   "cell_type": "code",
   "execution_count": null,
   "id": "0418781c",
   "metadata": {},
   "outputs": [],
   "source": [
    "my_session.commit()"
   ]
  },
  {
   "cell_type": "code",
   "execution_count": null,
   "id": "40dc783a",
   "metadata": {},
   "outputs": [],
   "source": [
    "my_session.close()"
   ]
  },
  {
   "cell_type": "code",
   "execution_count": null,
   "id": "52569649",
   "metadata": {},
   "outputs": [],
   "source": []
  }
 ],
 "metadata": {
  "kernelspec": {
   "display_name": "SageMath 10.0",
   "language": "sage",
   "name": "sagemath"
  },
  "language_info": {
   "codemirror_mode": {
    "name": "ipython",
    "version": 3
   },
   "file_extension": ".py",
   "mimetype": "text/x-python",
   "name": "python",
   "nbconvert_exporter": "python",
   "pygments_lexer": "ipython3",
   "version": "3.10.12"
  }
 },
 "nbformat": 4,
 "nbformat_minor": 5
}
