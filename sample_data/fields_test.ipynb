{
 "cells": [
  {
   "cell_type": "code",
   "execution_count": 5,
   "id": "da562723",
   "metadata": {},
   "outputs": [],
   "source": [
    "load_attach_path('/home/ben/Database/')"
   ]
  },
  {
   "cell_type": "code",
   "execution_count": 6,
   "id": "c5d3a59f",
   "metadata": {},
   "outputs": [],
   "source": [
    "load(\"fields/field_helpers_NF.py\")\n",
    "load(\"fields/field_helpers_FF.py\")"
   ]
  },
  {
   "cell_type": "code",
   "execution_count": 7,
   "id": "420c2cd4",
   "metadata": {},
   "outputs": [
    {
     "name": "stdout",
     "output_type": "stream",
     "text": [
      "['3.1.3159.1']\n",
      "['3.1.972.1']\n",
      "['3.1.1228.1']\n",
      "['3.1.1836.1']\n",
      "['3.1.1228.1']\n",
      "['3.1.1228.2']\n",
      "['3.1.2075.1']\n",
      "['3.1.2075.1']\n",
      "['3.1.2075.2']\n",
      "Adding field: Finite Field of size 2:Field not Found: Finite Field of size 2\n",
      "label computed: 2.1\n",
      "field inserted as: 2.1\n",
      "Adding field: Finite Field in z2 of size 2^2:Normalized field variable:Finite Field in z2 of size 2^2 to Finite Field in a of size 2^2\n",
      "Field not Found: Finite Field in a of size 2^2\n",
      "label computed: 2.2\n",
      "field inserted as: 2.2\n",
      "Adding field: Finite Field in z3 of size 2^3:Normalized field variable:Finite Field in z3 of size 2^3 to Finite Field in a of size 2^3\n",
      "Field not Found: Finite Field in a of size 2^3\n",
      "label computed: 2.3\n",
      "field inserted as: 2.3\n",
      "Adding field: Finite Field in z4 of size 2^4:Normalized field variable:Finite Field in z4 of size 2^4 to Finite Field in a of size 2^4\n",
      "Field not Found: Finite Field in a of size 2^4\n",
      "label computed: 2.4\n",
      "field inserted as: 2.4\n",
      "Adding field: Finite Field of size 3:Field not Found: Finite Field of size 3\n",
      "label computed: 3.1\n",
      "field inserted as: 3.1\n",
      "Adding field: Finite Field in z2 of size 3^2:Normalized field variable:Finite Field in z2 of size 3^2 to Finite Field in a of size 3^2\n",
      "Field not Found: Finite Field in a of size 3^2\n",
      "label computed: 3.2\n",
      "field inserted as: 3.2\n",
      "Adding field: Finite Field in z3 of size 3^3:Normalized field variable:Finite Field in z3 of size 3^3 to Finite Field in a of size 3^3\n",
      "Field not Found: Finite Field in a of size 3^3\n",
      "label computed: 3.3\n",
      "field inserted as: 3.3\n",
      "Adding field: Finite Field in z4 of size 3^4:Normalized field variable:Finite Field in z4 of size 3^4 to Finite Field in a of size 3^4\n",
      "Field not Found: Finite Field in a of size 3^4\n",
      "label computed: 3.4\n",
      "field inserted as: 3.4\n",
      "Adding field: Finite Field of size 5:Field not Found: Finite Field of size 5\n",
      "label computed: 5.1\n",
      "field inserted as: 5.1\n",
      "Adding field: Finite Field in z2 of size 5^2:Normalized field variable:Finite Field in z2 of size 5^2 to Finite Field in a of size 5^2\n",
      "Field not Found: Finite Field in a of size 5^2\n",
      "label computed: 5.2\n",
      "field inserted as: 5.2\n",
      "Adding field: Finite Field in z3 of size 5^3:Normalized field variable:Finite Field in z3 of size 5^3 to Finite Field in a of size 5^3\n",
      "Field not Found: Finite Field in a of size 5^3\n",
      "label computed: 5.3\n",
      "field inserted as: 5.3\n",
      "Adding field: Finite Field in z4 of size 5^4:Normalized field variable:Finite Field in z4 of size 5^4 to Finite Field in a of size 5^4\n",
      "Field not Found: Finite Field in a of size 5^4\n",
      "label computed: 5.4\n",
      "field inserted as: 5.4\n",
      "Adding field: Finite Field of size 7:Field not Found: Finite Field of size 7\n",
      "label computed: 7.1\n",
      "field inserted as: 7.1\n",
      "Adding field: Finite Field in z2 of size 7^2:Normalized field variable:Finite Field in z2 of size 7^2 to Finite Field in a of size 7^2\n",
      "Field not Found: Finite Field in a of size 7^2\n",
      "label computed: 7.2\n",
      "field inserted as: 7.2\n",
      "Adding field: Finite Field in z3 of size 7^3:Normalized field variable:Finite Field in z3 of size 7^3 to Finite Field in a of size 7^3\n",
      "Field not Found: Finite Field in a of size 7^3\n",
      "label computed: 7.3\n",
      "field inserted as: 7.3\n",
      "Adding field: Finite Field in z4 of size 7^4:Normalized field variable:Finite Field in z4 of size 7^4 to Finite Field in a of size 7^4\n",
      "Field not Found: Finite Field in a of size 7^4\n",
      "label computed: 7.4\n",
      "field inserted as: 7.4\n",
      "Adding field: Finite Field of size 11:Field not Found: Finite Field of size 11\n",
      "label computed: 11.1\n",
      "field inserted as: 11.1\n",
      "Adding field: Finite Field in z2 of size 11^2:Normalized field variable:Finite Field in z2 of size 11^2 to Finite Field in a of size 11^2\n",
      "Field not Found: Finite Field in a of size 11^2\n",
      "label computed: 11.2\n",
      "field inserted as: 11.2\n",
      "Adding field: Finite Field in z3 of size 11^3:Normalized field variable:Finite Field in z3 of size 11^3 to Finite Field in a of size 11^3\n",
      "Field not Found: Finite Field in a of size 11^3\n",
      "label computed: 11.3\n",
      "field inserted as: 11.3\n",
      "Adding field: Finite Field in z4 of size 11^4:Normalized field variable:Finite Field in z4 of size 11^4 to Finite Field in a of size 11^4\n",
      "Field not Found: Finite Field in a of size 11^4\n",
      "label computed: 11.4\n",
      "field inserted as: 11.4\n",
      "Adding field: Finite Field of size 13:Field not Found: Finite Field of size 13\n",
      "label computed: 13.1\n",
      "field inserted as: 13.1\n",
      "Adding field: Finite Field in z2 of size 13^2:Normalized field variable:Finite Field in z2 of size 13^2 to Finite Field in a of size 13^2\n",
      "Field not Found: Finite Field in a of size 13^2\n",
      "label computed: 13.2\n",
      "field inserted as: 13.2\n",
      "Adding field: Finite Field in z3 of size 13^3:Normalized field variable:Finite Field in z3 of size 13^3 to Finite Field in a of size 13^3\n",
      "Field not Found: Finite Field in a of size 13^3\n",
      "label computed: 13.3\n",
      "field inserted as: 13.3\n",
      "Adding field: Finite Field in z4 of size 13^4:Normalized field variable:Finite Field in z4 of size 13^4 to Finite Field in a of size 13^4\n",
      "Field not Found: Finite Field in a of size 13^4\n",
      "label computed: 13.4\n",
      "field inserted as: 13.4\n",
      "Adding field: Finite Field of size 17:Field not Found: Finite Field of size 17\n",
      "label computed: 17.1\n",
      "field inserted as: 17.1\n",
      "Adding field: Finite Field in z2 of size 17^2:Normalized field variable:Finite Field in z2 of size 17^2 to Finite Field in a of size 17^2\n",
      "Field not Found: Finite Field in a of size 17^2\n",
      "label computed: 17.2\n",
      "field inserted as: 17.2\n",
      "Adding field: Finite Field in z3 of size 17^3:Normalized field variable:Finite Field in z3 of size 17^3 to Finite Field in a of size 17^3\n",
      "Field not Found: Finite Field in a of size 17^3\n",
      "label computed: 17.3\n",
      "field inserted as: 17.3\n",
      "Adding field: Finite Field in z4 of size 17^4:Normalized field variable:Finite Field in z4 of size 17^4 to Finite Field in a of size 17^4\n",
      "Field not Found: Finite Field in a of size 17^4\n",
      "label computed: 17.4\n",
      "field inserted as: 17.4\n",
      "Adding field: Finite Field of size 19:Field not Found: Finite Field of size 19\n",
      "label computed: 19.1\n",
      "field inserted as: 19.1\n",
      "Adding field: Finite Field in z2 of size 19^2:Normalized field variable:Finite Field in z2 of size 19^2 to Finite Field in a of size 19^2\n",
      "Field not Found: Finite Field in a of size 19^2\n",
      "label computed: 19.2\n",
      "field inserted as: 19.2\n",
      "Adding field: Finite Field in z3 of size 19^3:Normalized field variable:Finite Field in z3 of size 19^3 to Finite Field in a of size 19^3\n",
      "Field not Found: Finite Field in a of size 19^3\n",
      "label computed: 19.3\n",
      "field inserted as: 19.3\n",
      "Adding field: Finite Field in z4 of size 19^4:Normalized field variable:Finite Field in z4 of size 19^4 to Finite Field in a of size 19^4\n",
      "Field not Found: Finite Field in a of size 19^4\n",
      "label computed: 19.4\n",
      "field inserted as: 19.4\n"
     ]
    }
   ],
   "source": [
    "load(\"sample_data/add_fields.py\")"
   ]
  },
  {
   "cell_type": "code",
   "execution_count": 4,
   "id": "006085b0",
   "metadata": {},
   "outputs": [
    {
     "ename": "InterfaceError",
     "evalue": "connection already closed",
     "output_type": "error",
     "traceback": [
      "\u001b[0;31m---------------------------------------------------------------------------\u001b[0m",
      "\u001b[0;31mInterfaceError\u001b[0m                            Traceback (most recent call last)",
      "Cell \u001b[0;32mIn [4], line 1\u001b[0m\n\u001b[0;32m----> 1\u001b[0m \u001b[43mmy_session\u001b[49m\u001b[38;5;241;43m.\u001b[39;49m\u001b[43mcommit\u001b[49m\u001b[43m(\u001b[49m\u001b[43m)\u001b[49m\n",
      "\u001b[0;31mInterfaceError\u001b[0m: connection already closed"
     ]
    }
   ],
   "source": [
    "my_session.commit()"
   ]
  },
  {
   "cell_type": "code",
   "execution_count": 34,
   "id": "8db701b8",
   "metadata": {},
   "outputs": [],
   "source": [
    "import psycopg2\n",
    "import psycopg2.extras\n",
    "my_session = psycopg2.connect(database=\"dad\",\n",
    "            host=\"localhost\",\n",
    "            user=\"dad_user\",\n",
    "            password=\"dad_pass\",\n",
    "            port=\"5432\")\n",
    "    \n",
    "my_cursor = my_session.cursor(cursor_factory=psycopg2.extras.DictCursor)\n"
   ]
  },
  {
   "cell_type": "code",
   "execution_count": 35,
   "id": "53423035",
   "metadata": {},
   "outputs": [
    {
     "data": {
      "text/plain": [
       "679"
      ]
     },
     "execution_count": 35,
     "metadata": {},
     "output_type": "execute_result"
    }
   ],
   "source": [
    "my_cursor.execute(\"\"\"SELECT * FROM number_fields\"\"\")\n",
    "my_cursor.rowcount"
   ]
  },
  {
   "cell_type": "code",
   "execution_count": 29,
   "id": "6591c028",
   "metadata": {},
   "outputs": [],
   "source": [
    "field_query = {}\n",
    "K.<v>=QuadraticField(2)\n",
    "if K in NumberFields():\n",
    "    if K == QQ:\n",
    "        label = '1.1.1.'\n",
    "    else:\n",
    "        label = str(K.degree()) + '.' + str(K.signature()[0]) + '.' + str(K.discriminant().abs()) + '.'\n",
    "else:\n",
    "    raise NotImplementedError(\"only number fields\")\n",
    "\n",
    "#take into account distinct fields with the same initial label values\n",
    "field_query['label'] = label+'%'\n",
    "my_cursor.execute(\"\"\"SELECT label FROM number_fields WHERE label LIKE %(label)s\"\"\",field_query)"
   ]
  },
  {
   "cell_type": "code",
   "execution_count": 30,
   "id": "83914f59",
   "metadata": {},
   "outputs": [
    {
     "data": {
      "text/plain": [
       "1"
      ]
     },
     "execution_count": 30,
     "metadata": {},
     "output_type": "execute_result"
    }
   ],
   "source": [
    "my_cursor.rowcount"
   ]
  },
  {
   "cell_type": "code",
   "execution_count": 36,
   "id": "1295525f",
   "metadata": {},
   "outputs": [
    {
     "data": {
      "text/plain": [
       "34"
      ]
     },
     "execution_count": 36,
     "metadata": {},
     "output_type": "execute_result"
    }
   ],
   "source": [
    "my_cursor.execute(\"\"\"SELECT * FROM number_fields\n",
    "    WHERE label LIKE '2.0.1%'\n",
    "    \"\"\")\n",
    "my_cursor.rowcount"
   ]
  },
  {
   "cell_type": "code",
   "execution_count": 29,
   "id": "eae3951e",
   "metadata": {},
   "outputs": [
    {
     "data": {
      "text/plain": [
       "1"
      ]
     },
     "execution_count": 29,
     "metadata": {},
     "output_type": "execute_result"
    }
   ],
   "source": [
    "K=QuadraticField(2)\n",
    "label = str(K.degree()) + '.' + str(K.signature()[0]) + '.' + str(K.discriminant().abs()) + '.%'\n",
    "my_cursor.execute(\"\"\"SELECT * FROM number_fields\n",
    "    WHERE label LIKE %s\n",
    "    \"\"\",[label])\n",
    "my_cursor.rowcount"
   ]
  },
  {
   "cell_type": "code",
   "execution_count": 44,
   "id": "da97c094",
   "metadata": {},
   "outputs": [
    {
     "data": {
      "text/plain": [
       "5"
      ]
     },
     "execution_count": 44,
     "metadata": {},
     "output_type": "execute_result"
    }
   ],
   "source": [
    "K.<v>=QuadraticField(-103)\n",
    "K.class_number()"
   ]
  },
  {
   "cell_type": "code",
   "execution_count": null,
   "id": "b021d7c5",
   "metadata": {},
   "outputs": [],
   "source": []
  },
  {
   "cell_type": "code",
   "execution_count": null,
   "id": "4d33332d",
   "metadata": {},
   "outputs": [],
   "source": [
    "search_label = str(K.degree()) + '\\\\.' + str(K.signature()[0]) + '\\\\.' + str(K.discriminant().abs()) + '\\\\.'"
   ]
  },
  {
   "cell_type": "code",
   "execution_count": 73,
   "id": "9fb38995",
   "metadata": {},
   "outputs": [
    {
     "data": {
      "text/plain": [
       "Rational Field"
      ]
     },
     "execution_count": 73,
     "metadata": {},
     "output_type": "execute_result"
    }
   ],
   "source": [
    "D={'field_label':'2.2.24.1'}\n",
    "my_cursor.execute(\"\"\"SELECT * FROM finite_fields WHERE label=%(field_label)s\"\"\",D)\n",
    "F = my_cursor.fetchone()\n",
    "R = PolynomialRing(QQ,'X')\n",
    "def_poly = R(F['defn_poly_coeffs'])\n",
    "base_field = GF(F['characteristic']**F['degree'], 'a', modulus=def_poly)"
   ]
  },
  {
   "cell_type": "code",
   "execution_count": 39,
   "id": "2daaf894",
   "metadata": {},
   "outputs": [
    {
     "data": {
      "text/plain": [
       "x^2 - x - 1"
      ]
     },
     "execution_count": 39,
     "metadata": {},
     "output_type": "execute_result"
    }
   ],
   "source": [
    "def_poly = K.defining_polynomial()\n",
    "def_poly_new, gen = pari(def_poly).polredabs(1)\n",
    "def_poly_new.sage({def_poly.parent().variable_names()[0]:def_poly.parent().gen(0)})"
   ]
  },
  {
   "cell_type": "code",
   "execution_count": 55,
   "id": "eb878959",
   "metadata": {},
   "outputs": [
    {
     "name": "stdout",
     "output_type": "stream",
     "text": [
      "None\n",
      "[['1.1.1.1', 1, [0, 1], '(1,0)', 1, 1, 1], ['2.2.8.1', 2, [-2, 0, 1], '(2,0)', 8, 1, 8], ['2.2.12.1', 2, [-3, 0, 1], '(2,0)', 12, 1, 12], ['2.2.5.1', 2, [-1, -1, 1], '(2,0)', 5, 1, 5], ['2.2.24.1', 2, [-6, 0, 1], '(2,0)', 24, 1, 24]]\n"
     ]
    }
   ],
   "source": [
    "print(my_cursor.description)\n",
    "my_cursor.execute(\"\"\"SELECT * FROM number_fields\"\"\")\n",
    "print(my_cursor.fetchall())"
   ]
  },
  {
   "cell_type": "code",
   "execution_count": 56,
   "id": "8379057a",
   "metadata": {},
   "outputs": [
    {
     "name": "stdout",
     "output_type": "stream",
     "text": [
      "(Column(name='label', type_code=1043), Column(name='degree', type_code=23), Column(name='defn_poly_coeffs', type_code=1007), Column(name='signature', type_code=600), Column(name='conductor', type_code=23), Column(name='discriminant', type_code=23), Column(name='class_number', type_code=23))\n",
      "1.1.1.1\n",
      "2.2.8.1\n",
      "2.2.12.1\n",
      "2.2.5.1\n",
      "2.2.24.1\n"
     ]
    }
   ],
   "source": [
    "print(my_cursor.description)\n",
    "my_cursor.execute(\"\"\"SELECT * FROM number_fields\"\"\")\n",
    "for row in my_cursor.fetchall():\n",
    "    print(row['label'])"
   ]
  },
  {
   "cell_type": "code",
   "execution_count": 21,
   "id": "0418781c",
   "metadata": {},
   "outputs": [],
   "source": [
    "my_session.commit()"
   ]
  },
  {
   "cell_type": "code",
   "execution_count": 22,
   "id": "40dc783a",
   "metadata": {},
   "outputs": [],
   "source": [
    "my_session.close()"
   ]
  },
  {
   "cell_type": "code",
   "execution_count": null,
   "id": "52569649",
   "metadata": {},
   "outputs": [],
   "source": []
  }
 ],
 "metadata": {
  "kernelspec": {
   "display_name": "SageMath 10.0",
   "language": "sage",
   "name": "sagemath"
  },
  "language_info": {
   "codemirror_mode": {
    "name": "ipython",
    "version": 3
   },
   "file_extension": ".py",
   "mimetype": "text/x-python",
   "name": "python",
   "nbconvert_exporter": "python",
   "pygments_lexer": "ipython3",
   "version": "3.8.10"
  }
 },
 "nbformat": 4,
 "nbformat_minor": 5
}
