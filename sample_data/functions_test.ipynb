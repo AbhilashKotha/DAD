{
 "cells": [
  {
   "cell_type": "code",
   "execution_count": null,
   "id": "3a4b814a",
   "metadata": {},
   "outputs": [],
   "source": [
    "COPY (SELECT * FROM number_fields) TO '/media/postgres_data/number_fields.csv'  WITH DELIMITER ',' CSV HEADER;"
   ]
  },
  {
   "cell_type": "code",
   "execution_count": null,
   "id": "080b563c",
   "metadata": {},
   "outputs": [],
   "source": [
    "load_attach_path('/home/ben/Database/')"
   ]
  },
  {
   "cell_type": "code",
   "execution_count": null,
   "id": "cf8ecd36",
   "metadata": {},
   "outputs": [],
   "source": [
    "load(\"fields/field_helpers_NF.py\")\n",
    "load(\"functions/function_dim_1_helpers_NF.py\")"
   ]
  },
  {
   "cell_type": "code",
   "execution_count": null,
   "id": "aa0bfbaa",
   "metadata": {},
   "outputs": [],
   "source": [
    "import psycopg2\n",
    "import psycopg2.extras\n",
    "my_session = psycopg2.connect(database=\"dad\",\n",
    "            host=\"localhost\",\n",
    "            user=\"dad_user\",\n",
    "            password=\"dad_pass\",\n",
    "            port=\"5432\")\n",
    "    \n",
    "my_cursor = my_session.cursor(cursor_factory=psycopg2.extras.DictCursor)"
   ]
  },
  {
   "cell_type": "code",
   "execution_count": null,
   "id": "56d4c734",
   "metadata": {},
   "outputs": [],
   "source": [
    "add_citations_NF('1.2.0b88e8b9.1', [2])"
   ]
  },
  {
   "cell_type": "code",
   "execution_count": null,
   "id": "367ef789",
   "metadata": {
    "scrolled": true
   },
   "outputs": [],
   "source": [
    "load(\"sample_data/add_functions_dim_1.py\")"
   ]
  },
  {
   "cell_type": "code",
   "execution_count": null,
   "id": "d40c37dc",
   "metadata": {},
   "outputs": [],
   "source": [
    "sorted(list(set([1,4,5]+[2,4,6])))"
   ]
  },
  {
   "cell_type": "code",
   "execution_count": null,
   "id": "82450917",
   "metadata": {},
   "outputs": [],
   "source": [
    "my_cursor.execute(\"\"\"SELECT\n",
    "        label\n",
    "         FROM functions_dim_1_NF\n",
    "        WHERE label=%s\n",
    "        \"\"\",['1.2.0b88e8b9.1'])\n",
    "my_cursor.fetchone()['label']"
   ]
  },
  {
   "cell_type": "code",
   "execution_count": null,
   "id": "d3be503d",
   "metadata": {},
   "outputs": [],
   "source": [
    "P.<x,y>=ProjectiveSpace(QQ,1)\n",
    "f=DynamicalSystem([x^2-2*y^2,y^2])\n",
    "G=f.rational_preperiodic_graph()"
   ]
  },
  {
   "cell_type": "code",
   "execution_count": null,
   "id": "a23e1253",
   "metadata": {},
   "outputs": [],
   "source": [
    "[type(t) for t in graph_data['preperiodic_components']]"
   ]
  },
  {
   "cell_type": "code",
   "execution_count": null,
   "id": "873351cd",
   "metadata": {},
   "outputs": [],
   "source": [
    "type(graph_data['preperiodic_components'])"
   ]
  },
  {
   "cell_type": "code",
   "execution_count": null,
   "id": "5d4fd80e",
   "metadata": {},
   "outputs": [],
   "source": [
    "G"
   ]
  },
  {
   "cell_type": "code",
   "execution_count": null,
   "id": "26ea6588",
   "metadata": {},
   "outputs": [],
   "source": [
    "G.connected_components()"
   ]
  },
  {
   "cell_type": "code",
   "execution_count": null,
   "id": "95b1c193",
   "metadata": {},
   "outputs": [],
   "source": [
    "for c in G.all_simple_cycles():\n",
    "    print([str(t) for t in c[0]])"
   ]
  },
  {
   "cell_type": "code",
   "execution_count": null,
   "id": "1455605a",
   "metadata": {},
   "outputs": [],
   "source": [
    "identify_graph(G,f)"
   ]
  },
  {
   "cell_type": "code",
   "execution_count": null,
   "id": "eb7926bf",
   "metadata": {},
   "outputs": [],
   "source": [
    "G"
   ]
  },
  {
   "cell_type": "code",
   "execution_count": null,
   "id": "222cefda",
   "metadata": {},
   "outputs": [],
   "source": [
    "my_session.commit()"
   ]
  },
  {
   "cell_type": "code",
   "execution_count": null,
   "id": "361b6c2d",
   "metadata": {},
   "outputs": [],
   "source": [
    "#twist example\n",
    "P=ProjectiveSpace(QQ,1,'x,y')\n",
    "x,y = P.gens()\n",
    "F=DynamicalSystem([x^2-2*x*y,-2*x*y+y^2])\n",
    "#add_function_all_NF(F)\n",
    "p=2\n",
    "q=4\n",
    "G = DynamicalSystem([2*p*x*y-3*q*y^2,3*x^2 - p*y^2])\n",
    "p=6\n",
    "q=21\n",
    "G2 = DynamicalSystem([2*p*x*y-3*q*y^2,3*x^2 - p*y^2])"
   ]
  },
  {
   "cell_type": "code",
   "execution_count": null,
   "id": "13ce3bd3",
   "metadata": {},
   "outputs": [],
   "source": [
    "add_function_all_NF(G2)"
   ]
  },
  {
   "cell_type": "code",
   "execution_count": null,
   "id": "48eb1036",
   "metadata": {},
   "outputs": [],
   "source": [
    "my_session.commit()"
   ]
  },
  {
   "cell_type": "code",
   "execution_count": null,
   "id": "881fa7f8",
   "metadata": {},
   "outputs": [],
   "source": [
    "my_cursor.rowcount"
   ]
  },
  {
   "cell_type": "code",
   "execution_count": null,
   "id": "7906237f",
   "metadata": {},
   "outputs": [],
   "source": [
    "P=ProjectiveSpace(QQ,1,'x,y')\n",
    "x,y = P.gens()\n",
    "F=DynamicalSystem([x^2-4*y^2,y^2])\n",
    "add_function_all_NF(F)\n",
    "G = F.conjugate(matrix(QQ,2,2,[1,2,3,4]))"
   ]
  },
  {
   "cell_type": "code",
   "execution_count": null,
   "id": "6f30d5ff",
   "metadata": {},
   "outputs": [],
   "source": [
    "my_session.commit()"
   ]
  },
  {
   "cell_type": "code",
   "execution_count": null,
   "id": "7766d6e6",
   "metadata": {},
   "outputs": [],
   "source": [
    "import psycopg2\n",
    "import psycopg2.extras\n",
    "my_session = psycopg2.connect(database=\"dad\",\n",
    "            host=\"localhost\",\n",
    "            user=\"dad_user\",\n",
    "            password=\"dad_pass\",\n",
    "            port=\"5432\")\n",
    "    \n",
    "my_cursor = my_session.cursor(cursor_factory=psycopg2.extras.DictCursor)\n",
    "#my_cursor = my_session.cursor()"
   ]
  },
  {
   "cell_type": "code",
   "execution_count": null,
   "id": "45b480a4",
   "metadata": {},
   "outputs": [],
   "source": [
    "my_cursor.execute(\"\"\"SELECT * FROM functions_dim_1_NF\"\"\")\n",
    "my_cursor.rowcount"
   ]
  },
  {
   "cell_type": "code",
   "execution_count": null,
   "id": "fe0c0dda",
   "metadata": {},
   "outputs": [],
   "source": []
  },
  {
   "cell_type": "code",
   "execution_count": null,
   "id": "6d2213df",
   "metadata": {},
   "outputs": [],
   "source": [
    "P.<x,y>=ProjectiveSpace(QQ,1)\n",
    "F=DynamicalSystem([x^2-2*y^2,y^2]) #Cheby\n",
    "label = add_function_all_NF(F)"
   ]
  },
  {
   "cell_type": "code",
   "execution_count": null,
   "id": "0e07d853",
   "metadata": {},
   "outputs": [],
   "source": [
    "my_cursor.execute(\"\"\"SELECT * FROM functions_dim_1_NF WHERE label = %s\"\"\",[label])\n",
    "print(my_cursor.fetchall())"
   ]
  },
  {
   "cell_type": "code",
   "execution_count": null,
   "id": "394a1b7f",
   "metadata": {},
   "outputs": [],
   "source": [
    "P.<x,y>=ProjectiveSpace(QQ,1)\n",
    "F=DynamicalSystem([x^2-2*y^2,y^2]) #Cheby\n",
    "F=DynamicalSystem([2/3*x^3+x^2*y - 1/3*y^3, x^2*y + 2*x*y^2]) #Newton\n",
    "E=EllipticCurve([0,0,0,0,1])\n",
    "F=P.Lattes_map(E,2)\n",
    "label=add_function_all_NF(F)\n",
    "#label"
   ]
  },
  {
   "cell_type": "code",
   "execution_count": null,
   "id": "b8979415",
   "metadata": {},
   "outputs": [],
   "source": [
    "print(my_cursor.description)\n",
    "my_cursor.execute(\"\"\"SELECT * FROM functions_dim_1_NF\"\"\")\n",
    "print(my_cursor.fetchall())"
   ]
  },
  {
   "cell_type": "code",
   "execution_count": null,
   "id": "8fa784f4",
   "metadata": {},
   "outputs": [],
   "source": [
    "add_sigma_inv_NF(label,'original',2,3)"
   ]
  },
  {
   "cell_type": "code",
   "execution_count": null,
   "id": "7ab7d4a5",
   "metadata": {},
   "outputs": [],
   "source": [
    "add_is_pcf(label,'original')"
   ]
  },
  {
   "cell_type": "code",
   "execution_count": null,
   "id": "0eeda2f6",
   "metadata": {
    "scrolled": true
   },
   "outputs": [],
   "source": [
    "add_critical_portrait(label,'original')"
   ]
  },
  {
   "cell_type": "code",
   "execution_count": null,
   "id": "3017b844",
   "metadata": {},
   "outputs": [],
   "source": [
    "add_automorphism_group_NF(label,'original')"
   ]
  },
  {
   "cell_type": "code",
   "execution_count": null,
   "id": "1fb2f23f",
   "metadata": {},
   "outputs": [],
   "source": [
    "add_rational_preperiodic_points_NF(label)"
   ]
  },
  {
   "cell_type": "code",
   "execution_count": null,
   "id": "5a8e52c8",
   "metadata": {},
   "outputs": [],
   "source": [
    "add_reduced_model_NF(label)"
   ]
  },
  {
   "cell_type": "code",
   "execution_count": null,
   "id": "119c73f7",
   "metadata": {},
   "outputs": [],
   "source": [
    "add_is_polynomial_NF(label)"
   ]
  },
  {
   "cell_type": "code",
   "execution_count": null,
   "id": "0fb837b6",
   "metadata": {},
   "outputs": [],
   "source": [
    "add_monic_centered_model_NF(label)"
   ]
  },
  {
   "cell_type": "code",
   "execution_count": null,
   "id": "a5ad31eb",
   "metadata": {},
   "outputs": [],
   "source": [
    "add_chebyshev_model_NF(label)"
   ]
  },
  {
   "cell_type": "code",
   "execution_count": null,
   "id": "8a45c46d",
   "metadata": {},
   "outputs": [],
   "source": [
    "add_newton_model_NF(label)"
   ]
  },
  {
   "cell_type": "code",
   "execution_count": null,
   "id": "d7bc9b1d",
   "metadata": {},
   "outputs": [],
   "source": [
    "add_is_lattes_NF(label)"
   ]
  },
  {
   "cell_type": "code",
   "execution_count": null,
   "id": "c9ae2ed4",
   "metadata": {},
   "outputs": [],
   "source": [
    "query={}\n",
    "query['label']=label\n",
    "choose_display_model(label)\n",
    "my_cursor.execute(\"\"\"SELECT display_model FROM functions_dim_1_NF where label=%(label)s\"\"\",query)\n",
    "my_cursor.fetchone()"
   ]
  },
  {
   "cell_type": "code",
   "execution_count": null,
   "id": "e16a3608",
   "metadata": {},
   "outputs": [],
   "source": [
    "my_cursor.execute(\"\"\"SELECT (chebyshev_model).coeffs FROM functions_dim_1_NF WHERE label=%(label)s\"\"\",query)\n",
    "print(my_cursor.fetchall())"
   ]
  },
  {
   "cell_type": "code",
   "execution_count": null,
   "id": "a4996246",
   "metadata": {},
   "outputs": [],
   "source": [
    "my_cursor.execute(\"\"\"SELECT is_chebyshev FROM functions_dim_1_NF WHERE label=%(label)s\"\"\",query)\n",
    "print(my_cursor.fetchall())"
   ]
  },
  {
   "cell_type": "code",
   "execution_count": null,
   "id": "8e33d879",
   "metadata": {},
   "outputs": [],
   "source": []
  },
  {
   "cell_type": "code",
   "execution_count": null,
   "id": "2afb132c",
   "metadata": {},
   "outputs": [],
   "source": [
    "f.sigma_invariants(1)"
   ]
  },
  {
   "cell_type": "code",
   "execution_count": null,
   "id": "da1bf89b",
   "metadata": {},
   "outputs": [],
   "source": [
    "R.<z>=QQ[]\n",
    "H = (z^3 + z^2+1)\n",
    "h = z - H/H.derivative(z)\n",
    "h"
   ]
  },
  {
   "cell_type": "code",
   "execution_count": null,
   "id": "e61ee436",
   "metadata": {},
   "outputs": [],
   "source": [
    "P.<x,y>=ProjectiveSpace(QQ,1)\n",
    "f=DynamicalSystem([2/3*x^3+x^2*y - 1/3*y^3, x^2*y + 2*x*y^2])\n",
    "f.dehomogenize(1)"
   ]
  },
  {
   "cell_type": "code",
   "execution_count": null,
   "id": "e4c49e5c",
   "metadata": {},
   "outputs": [],
   "source": [
    "F.is_postcritically_finite()"
   ]
  },
  {
   "cell_type": "code",
   "execution_count": null,
   "id": "ebd6af27",
   "metadata": {},
   "outputs": [],
   "source": [
    "my_cursor.execute(\"\"\"SELECT (original_model).coeffs, (original_model).base_field.label FROM functions_dim_1_NF\n",
    "    WHERE label='1.2.26124ad2.1'\n",
    "    \"\"\")\n",
    "G=my_cursor.fetchone()\n",
    "K = get_sage_field_NF(G['label']);print(K)\n",
    "P.<x,y>=ProjectiveSpace(K,1)\n",
    "R=P.coordinate_ring()\n",
    "d = len(G['coeffs'][0])-1\n",
    "F=[]\n",
    "for L in G['coeffs']:\n",
    "    print(L)\n",
    "    poly=0\n",
    "    for i in range(0,d+1):\n",
    "        poly += x^(d-i)*y^i*Integer(L[i])\n",
    "    F.append(poly)\n",
    "DynamicalSystem(F)"
   ]
  },
  {
   "cell_type": "code",
   "execution_count": null,
   "id": "71e14190",
   "metadata": {},
   "outputs": [],
   "source": [
    "get_sage_field_NF('1.1.1.1')"
   ]
  },
  {
   "cell_type": "code",
   "execution_count": null,
   "id": "614c0fd5",
   "metadata": {},
   "outputs": [],
   "source": [
    "label='1.2.26124ad2.1'\n",
    "P.<x,y>=ProjectiveSpace(QQ,1)\n",
    "F=DynamicalSystem([x^2+3*y^2,y^2])\n",
    "sigma = {'label':label}\n",
    "for k in range(2, 3+1):\n",
    "    if k == 2:\n",
    "        sigma.update({'two':[str(t) for t in F.sigma_invariants(k)]})\n",
    "        my_cursor.execute(\"\"\"UPDATE functions_dim_1_NF\n",
    "            SET sigma_invariants.two = %(two)s\n",
    "            WHERE label=%(label)s\n",
    "            \"\"\",sigma)\n",
    "        if my_cursor.rowcount == 0:\n",
    "            print('function ' + label + 'not found \\n')\n",
    "            raise ValueError(\"function not found to update\")\n",
    "        else:\n",
    "            print('updated ' + str(my_cursor.rowcount) + ' function for sigma.' + str(k) + '\\n')     \n",
    "    if k == 3:\n",
    "        sigma.update({'three':[str(t) for t in F.sigma_invariants(k)]})\n",
    "        my_cursor.execute(\"\"\"UPDATE functions_dim_1_NF\n",
    "            SET sigma_invariants.three = %(three)s\n",
    "            WHERE label=%(label)s\n",
    "            \"\"\",sigma)"
   ]
  },
  {
   "cell_type": "code",
   "execution_count": null,
   "id": "125631b5",
   "metadata": {},
   "outputs": [],
   "source": []
  },
  {
   "cell_type": "code",
   "execution_count": null,
   "id": "d9b644b5",
   "metadata": {},
   "outputs": [],
   "source": []
  },
  {
   "cell_type": "code",
   "execution_count": null,
   "id": "31284c39",
   "metadata": {},
   "outputs": [],
   "source": [
    "normalize_function_NF(F)"
   ]
  },
  {
   "cell_type": "code",
   "execution_count": null,
   "id": "6e4374ba",
   "metadata": {},
   "outputs": [],
   "source": [
    "model_in_database_NF(F)"
   ]
  },
  {
   "cell_type": "code",
   "execution_count": null,
   "id": "143bcbaf",
   "metadata": {},
   "outputs": [],
   "source": [
    "add_function(F)"
   ]
  },
  {
   "cell_type": "code",
   "execution_count": null,
   "id": "edf88864",
   "metadata": {},
   "outputs": [],
   "source": [
    "type(field_in_database_NF(QQ)[1])"
   ]
  },
  {
   "cell_type": "code",
   "execution_count": null,
   "id": "6ad3f057",
   "metadata": {},
   "outputs": [],
   "source": [
    "for k in Out[198].values():\n",
    "    print(type(k),k)"
   ]
  },
  {
   "cell_type": "code",
   "execution_count": null,
   "id": "a904dc30",
   "metadata": {},
   "outputs": [],
   "source": [
    "NumberFields()"
   ]
  },
  {
   "cell_type": "code",
   "execution_count": null,
   "id": "aee8273e",
   "metadata": {},
   "outputs": [],
   "source": [
    "g1=F[0]\n",
    "g1.coefficients(sparse=False)"
   ]
  },
  {
   "cell_type": "code",
   "execution_count": null,
   "id": "7f56dc1e",
   "metadata": {},
   "outputs": [],
   "source": [
    "C=[]\n",
    "print(g1.parent().gens())\n",
    "d=g1.degree()\n",
    "for i in range(0,d+1):\n",
    "    C.append(g1.coefficient({x:d-i,y:i}))\n",
    "C"
   ]
  },
  {
   "cell_type": "code",
   "execution_count": null,
   "id": "e685906c",
   "metadata": {},
   "outputs": [],
   "source": [
    "if not label is None:\n",
    "    f = functions.find_one({'label':label})\n",
    "if f is None:\n",
    "    raise ValueError('no function specified')\n",
    "\n",
    "base_field = get_sage_field(f['models'][model_name]['base_field_label'], f['base_field_type'],\\\n",
    "            emb_index=f['models'][model_name]['base_field_emb'])\n",
    "num_parameters = f['models'][model_name]['num_parameters']\n",
    "if num_parameters != 0:\n",
    "    R = PolynomialRing(base_field, num_parameters, 't')\n",
    "    P = ProjectiveSpace(f['N'], R, f['models'][model_name]['polys']['vars'])\n",
    "    var_dict = P.coordinate_ring().gens_dict()\n",
    "    var_dict.update(R.gens_dict())\n",
    "else:\n",
    "    P = ProjectiveSpace(f['N'], base_field, f['models'][model_name]['polys']['vars'])\n",
    "    var_dict = P.coordinate_ring().gens_dict()\n",
    "var_dict.update(base_field.gens_dict())\n",
    "polys = sage_eval(f['models'][model_name]['polys']['val'], var_dict)\n",
    "return DynamicalSystem(polys, domain=P)"
   ]
  },
  {
   "cell_type": "code",
   "execution_count": null,
   "id": "63dc2b4a",
   "metadata": {},
   "outputs": [],
   "source": [
    "d-5"
   ]
  },
  {
   "cell_type": "code",
   "execution_count": null,
   "id": "a8d3d081",
   "metadata": {},
   "outputs": [],
   "source": [
    "my_session.commit()"
   ]
  },
  {
   "cell_type": "code",
   "execution_count": null,
   "id": "413c4382",
   "metadata": {},
   "outputs": [],
   "source": []
  }
 ],
 "metadata": {
  "kernelspec": {
   "display_name": "SageMath 10.0",
   "language": "sage",
   "name": "sagemath"
  },
  "language_info": {
   "codemirror_mode": {
    "name": "ipython",
    "version": 3
   },
   "file_extension": ".py",
   "mimetype": "text/x-python",
   "name": "python",
   "nbconvert_exporter": "python",
   "pygments_lexer": "ipython3",
   "version": "3.8.10"
  }
 },
 "nbformat": 4,
 "nbformat_minor": 5
}
