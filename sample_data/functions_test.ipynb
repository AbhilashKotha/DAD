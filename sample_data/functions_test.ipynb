{
 "cells": [
  {
   "cell_type": "code",
   "execution_count": 26,
   "id": "3a4b814a",
   "metadata": {},
   "outputs": [
    {
     "ename": "SyntaxError",
     "evalue": "invalid syntax (2465218553.py, line 1)",
     "output_type": "error",
     "traceback": [
      "\u001b[0;36m  Cell \u001b[0;32mIn [26], line 1\u001b[0;36m\u001b[0m\n\u001b[0;31m    COPY (SELECT * FROM number_fields) TO '/home/ben/Database/sample_data/table_export_csv/number_fields.csv'  WITH DELIMITER ',' CSV HEADER;\u001b[0m\n\u001b[0m                        ^\u001b[0m\n\u001b[0;31mSyntaxError\u001b[0m\u001b[0;31m:\u001b[0m invalid syntax\n"
     ]
    }
   ],
   "source": [
    "COPY (SELECT * FROM number_fields) TO '/media/postgres_data/number_fields.csv'  WITH DELIMITER ',' CSV HEADER;"
   ]
  },
  {
   "cell_type": "code",
   "execution_count": null,
   "id": "1f80dac6",
   "metadata": {},
   "outputs": [],
   "source": [
    "COPY (SELECT * FROM number_fields) TO '/media/postgres_data/number_fields.csv'  WITH DELIMITER ',' CSV HEADER;\n",
    "COPY (SELECT * FROM citations) TO '/media/postgres_data/citations.csv'  WITH DELIMITER ',' CSV HEADER;\n",
    "COPY (SELECT * FROM families_dim_1_nf) TO '/media/postgres_data/families_dim_1_nf.csv'  WITH DELIMITER ',' CSV HEADER;\n",
    "COPY (SELECT * FROM functions_dim_1_nf) TO '/media/postgres_data/functions_dim_1_nf.csv'  WITH DELIMITER ',' CSV HEADER;\n",
    "COPY (SELECT * FROM graphs_dim_1_nf) TO '/media/postgres_data/graphs_dim_1_nf.csv'  WITH DELIMITER ',' CSV HEADER;\n",
    "COPY (SELECT * FROM rational_preperiodic_dim_1_nf) TO '/media/postgres_data/rational_preperiodic_dim_1_nf.csv'  WITH DELIMITER ',' CSV HEADER;"
   ]
  },
  {
   "cell_type": "code",
   "execution_count": 6,
   "id": "080b563c",
   "metadata": {},
   "outputs": [],
   "source": [
    "load_attach_path('/home/ben/Database/')"
   ]
  },
  {
   "cell_type": "code",
   "execution_count": 15,
   "id": "cf8ecd36",
   "metadata": {},
   "outputs": [],
   "source": [
    "load(\"fields/field_helpers_NF.py\")\n",
    "load(\"functions/function_dim_1_helpers_NF.py\")\n",
    "load(\"functions/families_dim_1_helpers_NF.py\")"
   ]
  },
  {
   "cell_type": "code",
   "execution_count": 16,
   "id": "aa0bfbaa",
   "metadata": {},
   "outputs": [],
   "source": [
    "import psycopg2\n",
    "import psycopg2.extras\n",
    "my_session = psycopg2.connect(database=\"dad\",\n",
    "            host=\"localhost\",\n",
    "            user=\"dad_user\",\n",
    "            password=\"dad_pass\",\n",
    "            port=\"5432\")\n",
    "    \n",
    "my_cursor = my_session.cursor(cursor_factory=psycopg2.extras.DictCursor)"
   ]
  },
  {
   "cell_type": "code",
   "execution_count": 17,
   "id": "56d4c734",
   "metadata": {},
   "outputs": [],
   "source": [
    "#add_citations_NF('1.2.0b88e8b9.1', [2])"
   ]
  },
  {
   "cell_type": "code",
   "execution_count": 20,
   "id": "367ef789",
   "metadata": {
    "scrolled": true
   },
   "outputs": [
    {
     "name": "stdout",
     "output_type": "stream",
     "text": [
      "s1: 0  count: 0\n",
      "s1: 1  count: 7\n",
      "s1: -1  count: 14\n",
      "s1: 1/2  count: 21\n",
      "s1: -1/2  count: 28\n",
      "s1: 2  count: 35\n",
      "['1.2.8f2b16a9.1']\n"
     ]
    },
    {
     "name": "stderr",
     "output_type": "stream",
     "text": [
      "/home/ben/Database/functions/function_dim_1_helpers_NF.py:622: DeprecationWarning: parameter 'sort' will be set to False by default in the future\n",
      "See https://github.com/sagemath/sage/issues/22349 for details.\n",
      "  graph_data['cardinality'] = len(G.vertices())\n",
      "/home/ben/Database/functions/function_dim_1_helpers_NF.py:638: DeprecationWarning: parameter 'sort' will be set to False by default in the future\n",
      "See https://github.com/sagemath/sage/issues/22349 for details.\n",
      "  for Q in G.vertices():\n"
     ]
    },
    {
     "name": "stdout",
     "output_type": "stream",
     "text": [
      "['1.2.78346cee.1']\n",
      "['1.2.0b88e8b9.1']\n",
      "['1.2.c3da6343.1']\n",
      "s1: -2  count: 42\n",
      "s1: 0  count: 0\n",
      "['1.3.9a82bd54.1']\n",
      "['1.3.fda31d86.1']\n",
      "['1.3.fd1640cc.1']\n",
      "s1: 1  count: 7\n",
      "['1.3.0055c590.1']\n",
      "['1.3.73d4f185.1']\n",
      "['1.3.431e08a7.1']\n",
      "s1: -1  count: 14\n",
      "['1.3.b00ed9b9.1']\n",
      "['1.3.169c9f27.1']\n",
      "['1.3.34093f3a.1']\n",
      "s1: 1/2  count: 21\n",
      "['1.3.9f1e2be0.1']\n",
      "['1.3.bf7a5323.1']\n",
      "['1.3.3d75004c.1']\n",
      "s1: -1/2  count: 28\n",
      "['1.3.12f12966.1']\n",
      "['1.3.628a3112.1']\n",
      "['1.3.58274684.1']\n",
      "s1: 2  count: 35\n",
      "['1.3.31ee60b5.1']\n",
      "['1.3.11b17b7d.1']\n",
      "['1.3.24bc8055.1']\n",
      "s1: -2  count: 42\n"
     ]
    },
    {
     "name": "stderr",
     "output_type": "stream",
     "text": [
      "/home/ben/Database/functions/function_dim_1_helpers_generic.py:149: DeprecationWarning: parameter 'sort' will be set to False by default in the future\n",
      "See https://github.com/sagemath/sage/issues/27408 for details.\n",
      "  for v in G.edges():\n"
     ]
    },
    {
     "name": "stdout",
     "output_type": "stream",
     "text": [
      "['1.3.14e68d04.1']\n",
      "['1.3.4ab2ca28.1']\n",
      "['1.3.f1d8a4f8.1']\n"
     ]
    },
    {
     "name": "stderr",
     "output_type": "stream",
     "text": [
      "/home/ben/Database/functions/function_dim_1_helpers_NF.py:549: DeprecationWarning: parameter 'sort' will be set to False by default in the future\n",
      "See https://github.com/sagemath/sage/issues/22349 for details.\n",
      "  query['critical_portrait_cardinality'] = int(len(g.vertices()))\n"
     ]
    },
    {
     "name": "stdout",
     "output_type": "stream",
     "text": [
      "Normalized field:Number Field in a with defining polynomial y^6 - 3*y^5 + 102*y^4 - 199*y^3 + 3501*y^2 - 3402*y + 46876 to Number Field in a with defining polynomial y^6 - 36*y^4 + 324*y^2 + 11043 with a = -5.206895267297741? - 1.742771578511999?*I\n",
      "Normalized field:Number Field in a with defining polynomial y^6 - 3*y^5 + 102*y^4 - 199*y^3 + 3501*y^2 - 3402*y + 46876 to Number Field in a with defining polynomial y^6 - 36*y^4 + 324*y^2 + 11043 with a = -5.206895267297741? - 1.742771578511999?*I\n",
      "Normalized field:Number Field in a with defining polynomial y^6 - 3*y^5 + 102*y^4 - 199*y^3 + 3501*y^2 - 3402*y + 46876 to Number Field in a with defining polynomial y^6 - 36*y^4 + 324*y^2 + 11043 with a = -5.206895267297741? - 1.742771578511999?*I\n",
      "Normalized field:Number Field in a with defining polynomial y^6 - 3*y^5 + 102*y^4 - 199*y^3 + 3501*y^2 - 3402*y + 46876 to Number Field in a with defining polynomial y^6 - 36*y^4 + 324*y^2 + 11043 with a = -5.206895267297741? - 1.742771578511999?*I\n",
      "Normalized field:Number Field in a with defining polynomial y^6 - 3*y^5 + 102*y^4 - 199*y^3 + 3501*y^2 - 3402*y + 46876 to Number Field in a with defining polynomial y^6 - 36*y^4 + 324*y^2 + 11043 with a = -5.206895267297741? - 1.742771578511999?*I\n",
      "Normalized field:Number Field in a with defining polynomial y^6 - 3*y^5 + 102*y^4 - 199*y^3 + 3501*y^2 - 3402*y + 46876 to Number Field in a with defining polynomial y^6 - 36*y^4 + 324*y^2 + 11043 with a = -5.206895267297741? - 1.742771578511999?*I\n"
     ]
    },
    {
     "ename": "TypeError",
     "evalue": "cannot unpack non-iterable NoneType object",
     "output_type": "error",
     "traceback": [
      "\u001b[0;31m---------------------------------------------------------------------------\u001b[0m",
      "\u001b[0;31mTypeError\u001b[0m                                 Traceback (most recent call last)",
      "Cell \u001b[0;32mIn [20], line 1\u001b[0m\n\u001b[0;32m----> 1\u001b[0m \u001b[43mload\u001b[49m\u001b[43m(\u001b[49m\u001b[38;5;124;43m\"\u001b[39;49m\u001b[38;5;124;43msample_data/add_functions_dim_1.py\u001b[39;49m\u001b[38;5;124;43m\"\u001b[39;49m\u001b[43m)\u001b[49m\n",
      "File \u001b[0;32m~/sage-rel/src/sage/misc/persist.pyx:175\u001b[0m, in \u001b[0;36msage.misc.persist.load\u001b[0;34m()\u001b[0m\n\u001b[1;32m    173\u001b[0m \n\u001b[1;32m    174\u001b[0m     if sage.repl.load.is_loadable_filename(filename):\n\u001b[0;32m--> 175\u001b[0m         sage.repl.load.load(filename, globals())\n\u001b[1;32m    176\u001b[0m         return\n\u001b[1;32m    177\u001b[0m \n",
      "File \u001b[0;32m~/sage-rel/src/sage/repl/load.py:252\u001b[0m, in \u001b[0;36mload\u001b[0;34m(filename, globals, attach)\u001b[0m\n\u001b[1;32m    250\u001b[0m     \u001b[38;5;28;01mwith\u001b[39;00m \u001b[38;5;28mopen\u001b[39m(fpath) \u001b[38;5;28;01mas\u001b[39;00m f:\n\u001b[1;32m    251\u001b[0m         code \u001b[38;5;241m=\u001b[39m \u001b[38;5;28mcompile\u001b[39m(f\u001b[38;5;241m.\u001b[39mread(), fpath, \u001b[38;5;124m'\u001b[39m\u001b[38;5;124mexec\u001b[39m\u001b[38;5;124m'\u001b[39m)\n\u001b[0;32m--> 252\u001b[0m         \u001b[43mexec\u001b[49m\u001b[43m(\u001b[49m\u001b[43mcode\u001b[49m\u001b[43m,\u001b[49m\u001b[43m \u001b[49m\u001b[38;5;28;43mglobals\u001b[39;49m\u001b[43m)\u001b[49m\n\u001b[1;32m    253\u001b[0m \u001b[38;5;28;01melif\u001b[39;00m ext \u001b[38;5;241m==\u001b[39m \u001b[38;5;124m'\u001b[39m\u001b[38;5;124m.sage\u001b[39m\u001b[38;5;124m'\u001b[39m:\n\u001b[1;32m    254\u001b[0m     \u001b[38;5;28;01mfrom\u001b[39;00m \u001b[38;5;21;01msage\u001b[39;00m\u001b[38;5;21;01m.\u001b[39;00m\u001b[38;5;21;01mrepl\u001b[39;00m\u001b[38;5;21;01m.\u001b[39;00m\u001b[38;5;21;01mattach\u001b[39;00m \u001b[38;5;28;01mimport\u001b[39;00m load_attach_mode\n",
      "File \u001b[0;32m~/Database/sample_data/add_functions_dim_1.py:81\u001b[0m\n\u001b[1;32m     79\u001b[0m x,y \u001b[38;5;241m=\u001b[39m P\u001b[38;5;241m.\u001b[39mgens()\n\u001b[1;32m     80\u001b[0m F \u001b[38;5;241m=\u001b[39m DynamicalSystem([\u001b[38;5;241m2\u001b[39m\u001b[38;5;241m/\u001b[39m\u001b[38;5;241m3\u001b[39m\u001b[38;5;241m*\u001b[39mx\u001b[38;5;241m*\u001b[39m\u001b[38;5;241m*\u001b[39m\u001b[38;5;241m3\u001b[39m\u001b[38;5;241m+\u001b[39mx\u001b[38;5;241m*\u001b[39m\u001b[38;5;241m*\u001b[39m\u001b[38;5;241m2\u001b[39m\u001b[38;5;241m*\u001b[39my \u001b[38;5;241m-\u001b[39m \u001b[38;5;241m1\u001b[39m\u001b[38;5;241m/\u001b[39m\u001b[38;5;241m3\u001b[39m\u001b[38;5;241m*\u001b[39my\u001b[38;5;241m*\u001b[39m\u001b[38;5;241m*\u001b[39m\u001b[38;5;241m3\u001b[39m, x\u001b[38;5;241m*\u001b[39m\u001b[38;5;241m*\u001b[39m\u001b[38;5;241m2\u001b[39m\u001b[38;5;241m*\u001b[39my \u001b[38;5;241m+\u001b[39m \u001b[38;5;241m2\u001b[39m\u001b[38;5;241m*\u001b[39mx\u001b[38;5;241m*\u001b[39my\u001b[38;5;241m*\u001b[39m\u001b[38;5;241m*\u001b[39m\u001b[38;5;241m2\u001b[39m]) \u001b[38;5;66;03m#Newton\u001b[39;00m\n\u001b[0;32m---> 81\u001b[0m \u001b[43madd_function_all_NF\u001b[49m\u001b[43m(\u001b[49m\u001b[43mF\u001b[49m\u001b[43m,\u001b[49m\u001b[43m \u001b[49m\u001b[43mlog_file\u001b[49m\u001b[38;5;241;43m=\u001b[39;49m\u001b[43mlog_file\u001b[49m\u001b[43m)\u001b[49m\n\u001b[1;32m     83\u001b[0m \u001b[38;5;66;03m#Lattes example\u001b[39;00m\n\u001b[1;32m     84\u001b[0m E \u001b[38;5;241m=\u001b[39m EllipticCurve([\u001b[38;5;241m0\u001b[39m,\u001b[38;5;241m0\u001b[39m,\u001b[38;5;241m0\u001b[39m,\u001b[38;5;241m0\u001b[39m,\u001b[38;5;241m1\u001b[39m])\n",
      "File \u001b[0;32m~/Database/functions/function_dim_1_helpers_NF.py:1469\u001b[0m, in \u001b[0;36madd_function_all_NF\u001b[0;34m(F, citations, log_file)\u001b[0m\n\u001b[1;32m   1465\u001b[0m \u001b[38;5;28;01mdef\u001b[39;00m \u001b[38;5;21madd_function_all_NF\u001b[39m(F, citations\u001b[38;5;241m=\u001b[39m[], log_file\u001b[38;5;241m=\u001b[39msys\u001b[38;5;241m.\u001b[39mstdout):\n\u001b[1;32m   1466\u001b[0m     \u001b[38;5;124;03m\"\"\"\u001b[39;00m\n\u001b[1;32m   1467\u001b[0m \u001b[38;5;124;03m    add all entries for one dynamical system\u001b[39;00m\n\u001b[1;32m   1468\u001b[0m \u001b[38;5;124;03m    \"\"\"\u001b[39;00m\n\u001b[0;32m-> 1469\u001b[0m     label\u001b[38;5;241m=\u001b[39m\u001b[43madd_function_NF\u001b[49m\u001b[43m(\u001b[49m\u001b[43mF\u001b[49m\u001b[43m,\u001b[49m\u001b[43mlog_file\u001b[49m\u001b[38;5;241;43m=\u001b[39;49m\u001b[43mlog_file\u001b[49m\u001b[43m)\u001b[49m\n\u001b[1;32m   1470\u001b[0m     add_citations_NF(label, citations, log_file\u001b[38;5;241m=\u001b[39mlog_file)\n\u001b[1;32m   1471\u001b[0m     add_sigma_inv_NF(label,\u001b[38;5;124m'\u001b[39m\u001b[38;5;124moriginal\u001b[39m\u001b[38;5;124m'\u001b[39m,\u001b[38;5;241m2\u001b[39m,\u001b[38;5;241m3\u001b[39m,log_file\u001b[38;5;241m=\u001b[39mlog_file)\n",
      "File \u001b[0;32m~/Database/functions/function_dim_1_helpers_NF.py:312\u001b[0m, in \u001b[0;36madd_function_NF\u001b[0;34m(F, bool_add_field, log_file, timeout)\u001b[0m\n\u001b[1;32m    301\u001b[0m base_field \u001b[38;5;241m=\u001b[39m F\u001b[38;5;241m.\u001b[39mbase_ring()\n\u001b[1;32m    302\u001b[0m \u001b[38;5;66;03m#if isinstance(base_field, (PolynomialRing_general, MPolynomialRing_base))\\\u001b[39;00m\n\u001b[1;32m    303\u001b[0m \u001b[38;5;66;03m#  or base_field in FunctionFields() or is_FractionField(base_field):\u001b[39;00m\n\u001b[1;32m    304\u001b[0m \u001b[38;5;66;03m#    f['num_parameters'] = int(base_field.ngens())\u001b[39;00m\n\u001b[0;32m   (...)\u001b[0m\n\u001b[1;32m    309\u001b[0m \u001b[38;5;66;03m#    F, phi = normalize_function(F, log_file=log_file)\u001b[39;00m\n\u001b[1;32m    310\u001b[0m \u001b[38;5;66;03m#    base_field = F.base_ring()\u001b[39;00m\n\u001b[0;32m--> 312\u001b[0m F, phi \u001b[38;5;241m=\u001b[39m \u001b[43mnormalize_function_NF\u001b[49m\u001b[43m(\u001b[49m\u001b[43mF\u001b[49m\u001b[43m,\u001b[49m\u001b[43m \u001b[49m\u001b[43mlog_file\u001b[49m\u001b[38;5;241;43m=\u001b[39;49m\u001b[43mlog_file\u001b[49m\u001b[43m)\u001b[49m\n\u001b[1;32m    314\u001b[0m \u001b[38;5;28mbool\u001b[39m, K_id \u001b[38;5;241m=\u001b[39m field_in_database_NF(base_field)\n\u001b[1;32m    315\u001b[0m K_id \u001b[38;5;241m=\u001b[39m K_id\n",
      "File \u001b[0;32m~/Database/functions/function_dim_1_helpers_NF.py:68\u001b[0m, in \u001b[0;36mnormalize_function_NF\u001b[0;34m(F, log_file)\u001b[0m\n\u001b[1;32m     66\u001b[0m         log_file\u001b[38;5;241m.\u001b[39mwrite(\u001b[38;5;124m'\u001b[39m\u001b[38;5;124mNormalized base field:\u001b[39m\u001b[38;5;124m'\u001b[39m \u001b[38;5;241m+\u001b[39m \u001b[38;5;28mstr\u001b[39m(F\u001b[38;5;241m.\u001b[39mbase_ring()) \u001b[38;5;241m+\u001b[39m \u001b[38;5;124m'\u001b[39m\u001b[38;5;124m to \u001b[39m\u001b[38;5;124m'\u001b[39m \u001b[38;5;241m+\u001b[39m \u001b[38;5;28mstr\u001b[39m(K) \u001b[38;5;241m+\u001b[39m \u001b[38;5;124m'\u001b[39m\u001b[38;5;130;01m\\n\u001b[39;00m\u001b[38;5;124m'\u001b[39m)\n\u001b[1;32m     67\u001b[0m \u001b[38;5;28;01melse\u001b[39;00m:\n\u001b[0;32m---> 68\u001b[0m     K, phi \u001b[38;5;241m=\u001b[39m normalize_field_NF(base_field, log_file\u001b[38;5;241m=\u001b[39mlog_file)\n\u001b[1;32m     69\u001b[0m     \u001b[38;5;28;01mif\u001b[39;00m \u001b[38;5;129;01mnot\u001b[39;00m K \u001b[38;5;129;01mis\u001b[39;00m base_field:\n\u001b[1;32m     70\u001b[0m         F \u001b[38;5;241m=\u001b[39m F\u001b[38;5;241m.\u001b[39mchange_ring(phi)\n",
      "\u001b[0;31mTypeError\u001b[0m: cannot unpack non-iterable NoneType object"
     ]
    }
   ],
   "source": [
    "load(\"sample_data/add_functions_dim_1.py\")"
   ]
  },
  {
   "cell_type": "code",
   "execution_count": 23,
   "id": "8dc70e99",
   "metadata": {},
   "outputs": [
    {
     "name": "stderr",
     "output_type": "stream",
     "text": [
      "/home/ben/Database/functions/function_dim_1_helpers_NF.py:549: DeprecationWarning: parameter 'sort' will be set to False by default in the future\n",
      "See https://github.com/sagemath/sage/issues/22349 for details.\n",
      "  query['critical_portrait_cardinality'] = int(len(g.vertices()))\n",
      "/home/ben/Database/functions/function_dim_1_helpers_NF.py:622: DeprecationWarning: parameter 'sort' will be set to False by default in the future\n",
      "See https://github.com/sagemath/sage/issues/22349 for details.\n",
      "  graph_data['cardinality'] = len(G.vertices())\n",
      "/home/ben/Database/functions/function_dim_1_helpers_NF.py:638: DeprecationWarning: parameter 'sort' will be set to False by default in the future\n",
      "See https://github.com/sagemath/sage/issues/22349 for details.\n",
      "  for Q in G.vertices():\n"
     ]
    },
    {
     "data": {
      "text/plain": [
       "'1.4.7e1406dd.1'"
      ]
     },
     "execution_count": 23,
     "metadata": {},
     "output_type": "execute_result"
    }
   ],
   "source": [
    "E = EllipticCurve([0,0,0,0,1])\n",
    "F = P.Lattes_map(E,2)\n",
    "add_function_all_NF(F, log_file=log_file)"
   ]
  },
  {
   "cell_type": "code",
   "execution_count": 25,
   "id": "1a12c8b4",
   "metadata": {},
   "outputs": [],
   "source": [
    "my_session.commit()"
   ]
  },
  {
   "cell_type": "code",
   "execution_count": null,
   "id": "82450917",
   "metadata": {},
   "outputs": [],
   "source": [
    "my_cursor.execute(\"\"\"SELECT\n",
    "        label\n",
    "         FROM functions_dim_1_NF\n",
    "        WHERE label=%s\n",
    "        \"\"\",['1.2.0b88e8b9.1'])\n",
    "my_cursor.fetchone()['label']"
   ]
  },
  {
   "cell_type": "code",
   "execution_count": 7,
   "id": "d3be503d",
   "metadata": {},
   "outputs": [
    {
     "data": {
      "text/plain": [
       "(0, '0')"
      ]
     },
     "execution_count": 7,
     "metadata": {},
     "output_type": "execute_result"
    }
   ],
   "source": [
    "P.<x,y>=ProjectiveSpace(QQ,1)\n",
    "f=DynamicalSystem([x^2-25*y^2,y^2])\n",
    "model_in_database_NF(f)"
   ]
  },
  {
   "cell_type": "code",
   "execution_count": 13,
   "id": "a23e1253",
   "metadata": {},
   "outputs": [
    {
     "ename": "InFailedSqlTransaction",
     "evalue": "current transaction is aborted, commands ignored until end of transaction block\n",
     "output_type": "error",
     "traceback": [
      "\u001b[0;31m---------------------------------------------------------------------------\u001b[0m",
      "\u001b[0;31mInFailedSqlTransaction\u001b[0m                    Traceback (most recent call last)",
      "Cell \u001b[0;32mIn [13], line 5\u001b[0m\n\u001b[1;32m      3\u001b[0m \u001b[38;5;28;01mfor\u001b[39;00m c \u001b[38;5;129;01min\u001b[39;00m QQ\u001b[38;5;241m.\u001b[39mrange_by_height(Integer(\u001b[38;5;241m8\u001b[39m)):\n\u001b[1;32m      4\u001b[0m     F\u001b[38;5;241m=\u001b[39mDynamicalSystem([x\u001b[38;5;241m*\u001b[39m\u001b[38;5;241m*\u001b[39mInteger(\u001b[38;5;241m2\u001b[39m)\u001b[38;5;241m+\u001b[39mc\u001b[38;5;241m*\u001b[39my\u001b[38;5;241m*\u001b[39m\u001b[38;5;241m*\u001b[39mInteger(\u001b[38;5;241m2\u001b[39m),y\u001b[38;5;241m*\u001b[39m\u001b[38;5;241m*\u001b[39mInteger(\u001b[38;5;241m2\u001b[39m)]) \u001b[38;5;66;03m#polys\u001b[39;00m\n\u001b[0;32m----> 5\u001b[0m     \u001b[38;5;28;01mif\u001b[39;00m \u001b[38;5;129;01mnot\u001b[39;00m \u001b[43mmodel_in_database_NF\u001b[49m\u001b[43m(\u001b[49m\u001b[43mF\u001b[49m\u001b[43m)\u001b[49m[Integer(\u001b[38;5;241m0\u001b[39m)]:\n\u001b[1;32m      6\u001b[0m         label \u001b[38;5;241m=\u001b[39m add_function_all_NF(F)\n",
      "File \u001b[0;32m~/Database/functions/function_dim_1_helpers_NF.py:87\u001b[0m, in \u001b[0;36mmodel_in_database_NF\u001b[0;34m(F, sigma_1, conj_fns, log_file)\u001b[0m\n\u001b[1;32m     84\u001b[0m         sigma_1 \u001b[38;5;241m=\u001b[39m F\u001b[38;5;241m.\u001b[39msigma_invariants(\u001b[38;5;241m1\u001b[39m)\n\u001b[1;32m     85\u001b[0m     query \u001b[38;5;241m=\u001b[39m {\u001b[38;5;124m'\u001b[39m\u001b[38;5;124mdegree\u001b[39m\u001b[38;5;124m'\u001b[39m:\u001b[38;5;28mint\u001b[39m(F\u001b[38;5;241m.\u001b[39mdegree()),\\\n\u001b[1;32m     86\u001b[0m         \u001b[38;5;124m'\u001b[39m\u001b[38;5;124msigma_invariants.one\u001b[39m\u001b[38;5;124m'\u001b[39m: [\u001b[38;5;28mstr\u001b[39m(t) \u001b[38;5;28;01mfor\u001b[39;00m t \u001b[38;5;129;01min\u001b[39;00m sigma_1]}\n\u001b[0;32m---> 87\u001b[0m     \u001b[43mmy_cursor\u001b[49m\u001b[38;5;241;43m.\u001b[39;49m\u001b[43mexecute\u001b[49m\u001b[43m(\u001b[49m\u001b[38;5;124;43m\"\"\"\u001b[39;49m\u001b[38;5;124;43mSELECT\u001b[39;49m\n\u001b[1;32m     88\u001b[0m \u001b[38;5;124;43m        label,\u001b[39;49m\n\u001b[1;32m     89\u001b[0m \u001b[38;5;124;43m        (original_model).coeffs,(original_model).base_field_label,\u001b[39;49m\n\u001b[1;32m     90\u001b[0m \u001b[38;5;124;43m        (monic_centered).coeffs,(monic_centered).base_field_label,\u001b[39;49m\n\u001b[1;32m     91\u001b[0m \u001b[38;5;124;43m        (chebyshev_model).coeffs,(chebyshev_model).base_field_label,\u001b[39;49m\n\u001b[1;32m     92\u001b[0m \u001b[38;5;124;43m        (reduced_model).coeffs,(reduced_model).base_field_label,\u001b[39;49m\n\u001b[1;32m     93\u001b[0m \u001b[38;5;124;43m        (newton_model).coeffs,(newton_model).base_field_label\u001b[39;49m\n\u001b[1;32m     94\u001b[0m \u001b[38;5;124;43m         FROM functions_dim_1_NF\u001b[39;49m\n\u001b[1;32m     95\u001b[0m \u001b[38;5;124;43m        WHERE degree=\u001b[39;49m\u001b[38;5;132;43;01m%(degree)s\u001b[39;49;00m\u001b[38;5;124;43m AND\u001b[39;49m\n\u001b[1;32m     96\u001b[0m \u001b[38;5;124;43m            (sigma_invariants).one=\u001b[39;49m\u001b[38;5;124;43m%\u001b[39;49m\u001b[38;5;124;43m(sigma_invariants.one)s::varchar[]\u001b[39;49m\u001b[38;5;124;43m\"\"\"\u001b[39;49m\u001b[43m,\u001b[49m\u001b[43mquery\u001b[49m\u001b[43m)\u001b[49m\n\u001b[1;32m     97\u001b[0m     conj_fns \u001b[38;5;241m=\u001b[39m my_cursor\u001b[38;5;241m.\u001b[39mfetchall()\n\u001b[1;32m     99\u001b[0m model_names \u001b[38;5;241m=\u001b[39m [\u001b[38;5;124m'\u001b[39m\u001b[38;5;124moriginal_model\u001b[39m\u001b[38;5;124m'\u001b[39m, \u001b[38;5;124m'\u001b[39m\u001b[38;5;124mmonic_centered\u001b[39m\u001b[38;5;124m'\u001b[39m, \u001b[38;5;124m'\u001b[39m\u001b[38;5;124mchebyshev_model\u001b[39m\u001b[38;5;124m'\u001b[39m, \u001b[38;5;124m'\u001b[39m\u001b[38;5;124mreduced_model\u001b[39m\u001b[38;5;124m'\u001b[39m, \u001b[38;5;124m'\u001b[39m\u001b[38;5;124mnewton_model\u001b[39m\u001b[38;5;124m'\u001b[39m]\n",
      "File \u001b[0;32m~/sage-rel/local/var/lib/sage/venv-python3.8/lib/python3.8/site-packages/psycopg2/extras.py:146\u001b[0m, in \u001b[0;36mDictCursor.execute\u001b[0;34m(self, query, vars)\u001b[0m\n\u001b[1;32m    144\u001b[0m \u001b[38;5;28mself\u001b[39m\u001b[38;5;241m.\u001b[39mindex \u001b[38;5;241m=\u001b[39m OrderedDict()\n\u001b[1;32m    145\u001b[0m \u001b[38;5;28mself\u001b[39m\u001b[38;5;241m.\u001b[39m_query_executed \u001b[38;5;241m=\u001b[39m \u001b[38;5;28;01mTrue\u001b[39;00m\n\u001b[0;32m--> 146\u001b[0m \u001b[38;5;28;01mreturn\u001b[39;00m \u001b[38;5;28;43msuper\u001b[39;49m\u001b[43m(\u001b[49m\u001b[43m)\u001b[49m\u001b[38;5;241;43m.\u001b[39;49m\u001b[43mexecute\u001b[49m\u001b[43m(\u001b[49m\u001b[43mquery\u001b[49m\u001b[43m,\u001b[49m\u001b[43m \u001b[49m\u001b[38;5;28;43mvars\u001b[39;49m\u001b[43m)\u001b[49m\n",
      "\u001b[0;31mInFailedSqlTransaction\u001b[0m: current transaction is aborted, commands ignored until end of transaction block\n"
     ]
    }
   ],
   "source": [
    "P=ProjectiveSpace(QQ,1,'x,y')\n",
    "x,y = P.gens()\n",
    "for c in QQ.range_by_height(8):\n",
    "    F=DynamicalSystem([x**2+c*y**2,y**2]) #polys\n",
    "    if not model_in_database_NF(F)[0]:\n",
    "        label = add_function_all_NF(F)"
   ]
  },
  {
   "cell_type": "code",
   "execution_count": null,
   "id": "873351cd",
   "metadata": {},
   "outputs": [],
   "source": [
    "type(graph_data['preperiodic_components'])"
   ]
  },
  {
   "cell_type": "code",
   "execution_count": null,
   "id": "5d4fd80e",
   "metadata": {},
   "outputs": [],
   "source": [
    "G"
   ]
  },
  {
   "cell_type": "code",
   "execution_count": null,
   "id": "26ea6588",
   "metadata": {},
   "outputs": [],
   "source": [
    "G.connected_components()"
   ]
  },
  {
   "cell_type": "code",
   "execution_count": null,
   "id": "95b1c193",
   "metadata": {},
   "outputs": [],
   "source": [
    "for c in G.all_simple_cycles():\n",
    "    print([str(t) for t in c[0]])"
   ]
  },
  {
   "cell_type": "code",
   "execution_count": null,
   "id": "1455605a",
   "metadata": {},
   "outputs": [],
   "source": [
    "identify_graph(G,f)"
   ]
  },
  {
   "cell_type": "code",
   "execution_count": null,
   "id": "eb7926bf",
   "metadata": {},
   "outputs": [],
   "source": [
    "G"
   ]
  },
  {
   "cell_type": "code",
   "execution_count": null,
   "id": "222cefda",
   "metadata": {},
   "outputs": [],
   "source": [
    "my_session.commit()"
   ]
  },
  {
   "cell_type": "code",
   "execution_count": null,
   "id": "361b6c2d",
   "metadata": {},
   "outputs": [],
   "source": [
    "#twist example\n",
    "P=ProjectiveSpace(QQ,1,'x,y')\n",
    "x,y = P.gens()\n",
    "F=DynamicalSystem([x^2-2*x*y,-2*x*y+y^2])\n",
    "#add_function_all_NF(F)\n",
    "p=2\n",
    "q=4\n",
    "G = DynamicalSystem([2*p*x*y-3*q*y^2,3*x^2 - p*y^2])\n",
    "p=6\n",
    "q=21\n",
    "G2 = DynamicalSystem([2*p*x*y-3*q*y^2,3*x^2 - p*y^2])"
   ]
  },
  {
   "cell_type": "code",
   "execution_count": null,
   "id": "13ce3bd3",
   "metadata": {},
   "outputs": [],
   "source": [
    "add_function_all_NF(G2)"
   ]
  },
  {
   "cell_type": "code",
   "execution_count": null,
   "id": "48eb1036",
   "metadata": {},
   "outputs": [],
   "source": [
    "my_session.commit()"
   ]
  },
  {
   "cell_type": "code",
   "execution_count": null,
   "id": "881fa7f8",
   "metadata": {},
   "outputs": [],
   "source": [
    "my_cursor.rowcount"
   ]
  },
  {
   "cell_type": "code",
   "execution_count": null,
   "id": "7906237f",
   "metadata": {},
   "outputs": [],
   "source": [
    "P=ProjectiveSpace(QQ,1,'x,y')\n",
    "x,y = P.gens()\n",
    "F=DynamicalSystem([x^2-4*y^2,y^2])\n",
    "add_function_all_NF(F)\n",
    "G = F.conjugate(matrix(QQ,2,2,[1,2,3,4]))"
   ]
  },
  {
   "cell_type": "code",
   "execution_count": null,
   "id": "6f30d5ff",
   "metadata": {},
   "outputs": [],
   "source": [
    "my_session.commit()"
   ]
  },
  {
   "cell_type": "code",
   "execution_count": null,
   "id": "7766d6e6",
   "metadata": {},
   "outputs": [],
   "source": [
    "import psycopg2\n",
    "import psycopg2.extras\n",
    "my_session = psycopg2.connect(database=\"dad\",\n",
    "            host=\"localhost\",\n",
    "            user=\"dad_user\",\n",
    "            password=\"dad_pass\",\n",
    "            port=\"5432\")\n",
    "    \n",
    "my_cursor = my_session.cursor(cursor_factory=psycopg2.extras.DictCursor)\n",
    "#my_cursor = my_session.cursor()"
   ]
  },
  {
   "cell_type": "code",
   "execution_count": null,
   "id": "45b480a4",
   "metadata": {},
   "outputs": [],
   "source": [
    "my_cursor.execute(\"\"\"SELECT * FROM functions_dim_1_NF\"\"\")\n",
    "my_cursor.rowcount"
   ]
  },
  {
   "cell_type": "code",
   "execution_count": null,
   "id": "fe0c0dda",
   "metadata": {},
   "outputs": [],
   "source": []
  },
  {
   "cell_type": "code",
   "execution_count": null,
   "id": "6d2213df",
   "metadata": {},
   "outputs": [],
   "source": [
    "P.<x,y>=ProjectiveSpace(QQ,1)\n",
    "F=DynamicalSystem([x^2-2*y^2,y^2]) #Cheby\n",
    "label = add_function_all_NF(F)"
   ]
  },
  {
   "cell_type": "code",
   "execution_count": null,
   "id": "0e07d853",
   "metadata": {},
   "outputs": [],
   "source": [
    "my_cursor.execute(\"\"\"SELECT * FROM functions_dim_1_NF WHERE label = %s\"\"\",[label])\n",
    "print(my_cursor.fetchall())"
   ]
  },
  {
   "cell_type": "code",
   "execution_count": null,
   "id": "394a1b7f",
   "metadata": {},
   "outputs": [],
   "source": [
    "P.<x,y>=ProjectiveSpace(QQ,1)\n",
    "F=DynamicalSystem([x^2-2*y^2,y^2]) #Cheby\n",
    "F=DynamicalSystem([2/3*x^3+x^2*y - 1/3*y^3, x^2*y + 2*x*y^2]) #Newton\n",
    "E=EllipticCurve([0,0,0,0,1])\n",
    "F=P.Lattes_map(E,2)\n",
    "label=add_function_all_NF(F)\n",
    "#label"
   ]
  },
  {
   "cell_type": "code",
   "execution_count": null,
   "id": "b8979415",
   "metadata": {},
   "outputs": [],
   "source": [
    "print(my_cursor.description)\n",
    "my_cursor.execute(\"\"\"SELECT * FROM functions_dim_1_NF\"\"\")\n",
    "print(my_cursor.fetchall())"
   ]
  },
  {
   "cell_type": "code",
   "execution_count": null,
   "id": "8fa784f4",
   "metadata": {},
   "outputs": [],
   "source": [
    "add_sigma_inv_NF(label,'original',2,3)"
   ]
  },
  {
   "cell_type": "code",
   "execution_count": null,
   "id": "7ab7d4a5",
   "metadata": {},
   "outputs": [],
   "source": [
    "add_is_pcf(label,'original')"
   ]
  },
  {
   "cell_type": "code",
   "execution_count": null,
   "id": "0eeda2f6",
   "metadata": {
    "scrolled": true
   },
   "outputs": [],
   "source": [
    "add_critical_portrait(label,'original')"
   ]
  },
  {
   "cell_type": "code",
   "execution_count": null,
   "id": "3017b844",
   "metadata": {},
   "outputs": [],
   "source": [
    "add_automorphism_group_NF(label,'original')"
   ]
  },
  {
   "cell_type": "code",
   "execution_count": null,
   "id": "1fb2f23f",
   "metadata": {},
   "outputs": [],
   "source": [
    "add_rational_preperiodic_points_NF(label)"
   ]
  },
  {
   "cell_type": "code",
   "execution_count": null,
   "id": "5a8e52c8",
   "metadata": {},
   "outputs": [],
   "source": [
    "add_reduced_model_NF(label)"
   ]
  },
  {
   "cell_type": "code",
   "execution_count": null,
   "id": "119c73f7",
   "metadata": {},
   "outputs": [],
   "source": [
    "add_is_polynomial_NF(label)"
   ]
  },
  {
   "cell_type": "code",
   "execution_count": null,
   "id": "0fb837b6",
   "metadata": {},
   "outputs": [],
   "source": [
    "add_monic_centered_model_NF(label)"
   ]
  },
  {
   "cell_type": "code",
   "execution_count": null,
   "id": "a5ad31eb",
   "metadata": {},
   "outputs": [],
   "source": [
    "add_chebyshev_model_NF(label)"
   ]
  },
  {
   "cell_type": "code",
   "execution_count": null,
   "id": "8a45c46d",
   "metadata": {},
   "outputs": [],
   "source": [
    "add_newton_model_NF(label)"
   ]
  },
  {
   "cell_type": "code",
   "execution_count": null,
   "id": "d7bc9b1d",
   "metadata": {},
   "outputs": [],
   "source": [
    "add_is_lattes_NF(label)"
   ]
  },
  {
   "cell_type": "code",
   "execution_count": null,
   "id": "c9ae2ed4",
   "metadata": {},
   "outputs": [],
   "source": [
    "query={}\n",
    "query['label']=label\n",
    "choose_display_model(label)\n",
    "my_cursor.execute(\"\"\"SELECT display_model FROM functions_dim_1_NF where label=%(label)s\"\"\",query)\n",
    "my_cursor.fetchone()"
   ]
  },
  {
   "cell_type": "code",
   "execution_count": null,
   "id": "e16a3608",
   "metadata": {},
   "outputs": [],
   "source": [
    "my_cursor.execute(\"\"\"SELECT (chebyshev_model).coeffs FROM functions_dim_1_NF WHERE label=%(label)s\"\"\",query)\n",
    "print(my_cursor.fetchall())"
   ]
  },
  {
   "cell_type": "code",
   "execution_count": null,
   "id": "a4996246",
   "metadata": {},
   "outputs": [],
   "source": [
    "my_cursor.execute(\"\"\"SELECT is_chebyshev FROM functions_dim_1_NF WHERE label=%(label)s\"\"\",query)\n",
    "print(my_cursor.fetchall())"
   ]
  },
  {
   "cell_type": "code",
   "execution_count": null,
   "id": "8e33d879",
   "metadata": {},
   "outputs": [],
   "source": []
  },
  {
   "cell_type": "code",
   "execution_count": null,
   "id": "2afb132c",
   "metadata": {},
   "outputs": [],
   "source": [
    "f.sigma_invariants(1)"
   ]
  },
  {
   "cell_type": "code",
   "execution_count": null,
   "id": "da1bf89b",
   "metadata": {},
   "outputs": [],
   "source": [
    "R.<z>=QQ[]\n",
    "H = (z^3 + z^2+1)\n",
    "h = z - H/H.derivative(z)\n",
    "h"
   ]
  },
  {
   "cell_type": "code",
   "execution_count": null,
   "id": "e61ee436",
   "metadata": {},
   "outputs": [],
   "source": [
    "P.<x,y>=ProjectiveSpace(QQ,1)\n",
    "f=DynamicalSystem([2/3*x^3+x^2*y - 1/3*y^3, x^2*y + 2*x*y^2])\n",
    "f.dehomogenize(1)"
   ]
  },
  {
   "cell_type": "code",
   "execution_count": null,
   "id": "e4c49e5c",
   "metadata": {},
   "outputs": [],
   "source": [
    "F.is_postcritically_finite()"
   ]
  },
  {
   "cell_type": "code",
   "execution_count": null,
   "id": "ebd6af27",
   "metadata": {},
   "outputs": [],
   "source": [
    "my_cursor.execute(\"\"\"SELECT (original_model).coeffs, (original_model).base_field.label FROM functions_dim_1_NF\n",
    "    WHERE label='1.2.26124ad2.1'\n",
    "    \"\"\")\n",
    "G=my_cursor.fetchone()\n",
    "K = get_sage_field_NF(G['label']);print(K)\n",
    "P.<x,y>=ProjectiveSpace(K,1)\n",
    "R=P.coordinate_ring()\n",
    "d = len(G['coeffs'][0])-1\n",
    "F=[]\n",
    "for L in G['coeffs']:\n",
    "    print(L)\n",
    "    poly=0\n",
    "    for i in range(0,d+1):\n",
    "        poly += x^(d-i)*y^i*Integer(L[i])\n",
    "    F.append(poly)\n",
    "DynamicalSystem(F)"
   ]
  },
  {
   "cell_type": "code",
   "execution_count": null,
   "id": "71e14190",
   "metadata": {},
   "outputs": [],
   "source": [
    "get_sage_field_NF('1.1.1.1')"
   ]
  },
  {
   "cell_type": "code",
   "execution_count": null,
   "id": "614c0fd5",
   "metadata": {},
   "outputs": [],
   "source": [
    "label='1.2.26124ad2.1'\n",
    "P.<x,y>=ProjectiveSpace(QQ,1)\n",
    "F=DynamicalSystem([x^2+3*y^2,y^2])\n",
    "sigma = {'label':label}\n",
    "for k in range(2, 3+1):\n",
    "    if k == 2:\n",
    "        sigma.update({'two':[str(t) for t in F.sigma_invariants(k)]})\n",
    "        my_cursor.execute(\"\"\"UPDATE functions_dim_1_NF\n",
    "            SET sigma_invariants.two = %(two)s\n",
    "            WHERE label=%(label)s\n",
    "            \"\"\",sigma)\n",
    "        if my_cursor.rowcount == 0:\n",
    "            print('function ' + label + 'not found \\n')\n",
    "            raise ValueError(\"function not found to update\")\n",
    "        else:\n",
    "            print('updated ' + str(my_cursor.rowcount) + ' function for sigma.' + str(k) + '\\n')     \n",
    "    if k == 3:\n",
    "        sigma.update({'three':[str(t) for t in F.sigma_invariants(k)]})\n",
    "        my_cursor.execute(\"\"\"UPDATE functions_dim_1_NF\n",
    "            SET sigma_invariants.three = %(three)s\n",
    "            WHERE label=%(label)s\n",
    "            \"\"\",sigma)"
   ]
  },
  {
   "cell_type": "code",
   "execution_count": null,
   "id": "125631b5",
   "metadata": {},
   "outputs": [],
   "source": []
  },
  {
   "cell_type": "code",
   "execution_count": null,
   "id": "d9b644b5",
   "metadata": {},
   "outputs": [],
   "source": []
  },
  {
   "cell_type": "code",
   "execution_count": null,
   "id": "31284c39",
   "metadata": {},
   "outputs": [],
   "source": [
    "normalize_function_NF(F)"
   ]
  },
  {
   "cell_type": "code",
   "execution_count": null,
   "id": "6e4374ba",
   "metadata": {},
   "outputs": [],
   "source": [
    "model_in_database_NF(F)"
   ]
  },
  {
   "cell_type": "code",
   "execution_count": null,
   "id": "143bcbaf",
   "metadata": {},
   "outputs": [],
   "source": [
    "add_function(F)"
   ]
  },
  {
   "cell_type": "code",
   "execution_count": null,
   "id": "edf88864",
   "metadata": {},
   "outputs": [],
   "source": [
    "type(field_in_database_NF(QQ)[1])"
   ]
  },
  {
   "cell_type": "code",
   "execution_count": null,
   "id": "6ad3f057",
   "metadata": {},
   "outputs": [],
   "source": [
    "for k in Out[198].values():\n",
    "    print(type(k),k)"
   ]
  },
  {
   "cell_type": "code",
   "execution_count": null,
   "id": "a904dc30",
   "metadata": {},
   "outputs": [],
   "source": [
    "NumberFields()"
   ]
  },
  {
   "cell_type": "code",
   "execution_count": null,
   "id": "aee8273e",
   "metadata": {},
   "outputs": [],
   "source": [
    "g1=F[0]\n",
    "g1.coefficients(sparse=False)"
   ]
  },
  {
   "cell_type": "code",
   "execution_count": null,
   "id": "7f56dc1e",
   "metadata": {},
   "outputs": [],
   "source": [
    "C=[]\n",
    "print(g1.parent().gens())\n",
    "d=g1.degree()\n",
    "for i in range(0,d+1):\n",
    "    C.append(g1.coefficient({x:d-i,y:i}))\n",
    "C"
   ]
  },
  {
   "cell_type": "code",
   "execution_count": null,
   "id": "e685906c",
   "metadata": {},
   "outputs": [],
   "source": [
    "if not label is None:\n",
    "    f = functions.find_one({'label':label})\n",
    "if f is None:\n",
    "    raise ValueError('no function specified')\n",
    "\n",
    "base_field = get_sage_field(f['models'][model_name]['base_field_label'], f['base_field_type'],\\\n",
    "            emb_index=f['models'][model_name]['base_field_emb'])\n",
    "num_parameters = f['models'][model_name]['num_parameters']\n",
    "if num_parameters != 0:\n",
    "    R = PolynomialRing(base_field, num_parameters, 't')\n",
    "    P = ProjectiveSpace(f['N'], R, f['models'][model_name]['polys']['vars'])\n",
    "    var_dict = P.coordinate_ring().gens_dict()\n",
    "    var_dict.update(R.gens_dict())\n",
    "else:\n",
    "    P = ProjectiveSpace(f['N'], base_field, f['models'][model_name]['polys']['vars'])\n",
    "    var_dict = P.coordinate_ring().gens_dict()\n",
    "var_dict.update(base_field.gens_dict())\n",
    "polys = sage_eval(f['models'][model_name]['polys']['val'], var_dict)\n",
    "return DynamicalSystem(polys, domain=P)"
   ]
  },
  {
   "cell_type": "code",
   "execution_count": null,
   "id": "63dc2b4a",
   "metadata": {},
   "outputs": [],
   "source": [
    "d-5"
   ]
  },
  {
   "cell_type": "code",
   "execution_count": null,
   "id": "a8d3d081",
   "metadata": {},
   "outputs": [],
   "source": [
    "my_session.commit()"
   ]
  },
  {
   "cell_type": "code",
   "execution_count": null,
   "id": "413c4382",
   "metadata": {},
   "outputs": [],
   "source": []
  }
 ],
 "metadata": {
  "kernelspec": {
   "display_name": "SageMath 10.0",
   "language": "sage",
   "name": "sagemath"
  },
  "language_info": {
   "codemirror_mode": {
    "name": "ipython",
    "version": 3
   },
   "file_extension": ".py",
   "mimetype": "text/x-python",
   "name": "python",
   "nbconvert_exporter": "python",
   "pygments_lexer": "ipython3",
   "version": "3.8.10"
  }
 },
 "nbformat": 4,
 "nbformat_minor": 5
}
