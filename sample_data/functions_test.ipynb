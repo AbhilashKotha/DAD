{
 "cells": [
  {
   "cell_type": "code",
   "execution_count": 15,
   "id": "3a4b814a",
   "metadata": {},
   "outputs": [
    {
     "ename": "InsufficientPrivilege",
     "evalue": "must be superuser or a member of the pg_write_server_files role to COPY to a file\nHINT:  Anyone can COPY to stdout or from stdin. psql's \\copy command also works for anyone.\n",
     "output_type": "error",
     "traceback": [
      "\u001b[0;31m---------------------------------------------------------------------------\u001b[0m",
      "\u001b[0;31mInsufficientPrivilege\u001b[0m                     Traceback (most recent call last)",
      "Cell \u001b[0;32mIn [15], line 1\u001b[0m\n\u001b[0;32m----> 1\u001b[0m \u001b[43mmy_cursor\u001b[49m\u001b[38;5;241;43m.\u001b[39;49m\u001b[43mexecute\u001b[49m\u001b[43m(\u001b[49m\u001b[38;5;124;43m\"\"\"\u001b[39;49m\u001b[38;5;124;43mCOPY (SELECT * FROM functions_dim_1_NF) TO \u001b[39;49m\u001b[38;5;124;43m'\u001b[39;49m\u001b[38;5;124;43m/media/sf_VBShare/Database/functions_dim_1_NF.csv\u001b[39;49m\u001b[38;5;124;43m'\u001b[39;49m\u001b[38;5;124;43m  WITH DELIMITER \u001b[39;49m\u001b[38;5;124;43m'\u001b[39;49m\u001b[38;5;124;43m,\u001b[39;49m\u001b[38;5;124;43m'\u001b[39;49m\u001b[38;5;124;43m CSV HEADER\u001b[39;49m\u001b[38;5;124;43m\"\"\"\u001b[39;49m\u001b[43m)\u001b[49m\n",
      "File \u001b[0;32m~/sage-rel/local/var/lib/sage/venv-python3.8/lib/python3.8/site-packages/psycopg2/extras.py:146\u001b[0m, in \u001b[0;36mDictCursor.execute\u001b[0;34m(self, query, vars)\u001b[0m\n\u001b[1;32m    144\u001b[0m \u001b[38;5;28mself\u001b[39m\u001b[38;5;241m.\u001b[39mindex \u001b[38;5;241m=\u001b[39m OrderedDict()\n\u001b[1;32m    145\u001b[0m \u001b[38;5;28mself\u001b[39m\u001b[38;5;241m.\u001b[39m_query_executed \u001b[38;5;241m=\u001b[39m \u001b[38;5;28;01mTrue\u001b[39;00m\n\u001b[0;32m--> 146\u001b[0m \u001b[38;5;28;01mreturn\u001b[39;00m \u001b[38;5;28;43msuper\u001b[39;49m\u001b[43m(\u001b[49m\u001b[43m)\u001b[49m\u001b[38;5;241;43m.\u001b[39;49m\u001b[43mexecute\u001b[49m\u001b[43m(\u001b[49m\u001b[43mquery\u001b[49m\u001b[43m,\u001b[49m\u001b[43m \u001b[49m\u001b[38;5;28;43mvars\u001b[39;49m\u001b[43m)\u001b[49m\n",
      "\u001b[0;31mInsufficientPrivilege\u001b[0m: must be superuser or a member of the pg_write_server_files role to COPY to a file\nHINT:  Anyone can COPY to stdout or from stdin. psql's \\copy command also works for anyone.\n"
     ]
    }
   ],
   "source": [
    "COPY (SELECT * FROM number_fields) TO '/media/postgres_data/number_fields.csv'  WITH DELIMITER ',' CSV HEADER;"
   ]
  },
  {
   "cell_type": "code",
   "execution_count": 17,
   "id": "080b563c",
   "metadata": {},
   "outputs": [],
   "source": [
    "load_attach_path('/home/ben/Database/')"
   ]
  },
  {
   "cell_type": "code",
   "execution_count": 63,
   "id": "cf8ecd36",
   "metadata": {},
   "outputs": [],
   "source": [
    "load(\"fields/field_helpers.py\")\n",
    "load(\"functions/function_dim_1_helpers_NF.py\")"
   ]
  },
  {
   "cell_type": "code",
   "execution_count": 5,
   "id": "aa0bfbaa",
   "metadata": {},
   "outputs": [],
   "source": [
    "import psycopg2\n",
    "import psycopg2.extras\n",
    "my_session = psycopg2.connect(database=\"dad\",\n",
    "            host=\"localhost\",\n",
    "            user=\"dad_user\",\n",
    "            password=\"dad_pass\",\n",
    "            port=\"5432\")\n",
    "    \n",
    "my_cursor = my_session.cursor(cursor_factory=psycopg2.extras.DictCursor)"
   ]
  },
  {
   "cell_type": "code",
   "execution_count": 71,
   "id": "367ef789",
   "metadata": {},
   "outputs": [
    {
     "name": "stdout",
     "output_type": "stream",
     "text": [
      "Searching for functions: 1.2.a68cf1ff.: "
     ]
    },
    {
     "ename": "TypeError",
     "evalue": "cannot unpack non-iterable int object",
     "output_type": "error",
     "traceback": [
      "\u001b[0;31m---------------------------------------------------------------------------\u001b[0m",
      "\u001b[0;31mTypeError\u001b[0m                                 Traceback (most recent call last)",
      "Cell \u001b[0;32mIn [71], line 1\u001b[0m\n\u001b[0;32m----> 1\u001b[0m \u001b[43mload\u001b[49m\u001b[43m(\u001b[49m\u001b[38;5;124;43m\"\u001b[39;49m\u001b[38;5;124;43msample_data/add_functions_dim_1.py\u001b[39;49m\u001b[38;5;124;43m\"\u001b[39;49m\u001b[43m)\u001b[49m\n",
      "File \u001b[0;32m~/sage-rel/src/sage/misc/persist.pyx:175\u001b[0m, in \u001b[0;36msage.misc.persist.load\u001b[0;34m()\u001b[0m\n\u001b[1;32m    173\u001b[0m \n\u001b[1;32m    174\u001b[0m     if sage.repl.load.is_loadable_filename(filename):\n\u001b[0;32m--> 175\u001b[0m         sage.repl.load.load(filename, globals())\n\u001b[1;32m    176\u001b[0m         return\n\u001b[1;32m    177\u001b[0m \n",
      "File \u001b[0;32m~/sage-rel/src/sage/repl/load.py:252\u001b[0m, in \u001b[0;36mload\u001b[0;34m(filename, globals, attach)\u001b[0m\n\u001b[1;32m    250\u001b[0m     \u001b[38;5;28;01mwith\u001b[39;00m \u001b[38;5;28mopen\u001b[39m(fpath) \u001b[38;5;28;01mas\u001b[39;00m f:\n\u001b[1;32m    251\u001b[0m         code \u001b[38;5;241m=\u001b[39m \u001b[38;5;28mcompile\u001b[39m(f\u001b[38;5;241m.\u001b[39mread(), fpath, \u001b[38;5;124m'\u001b[39m\u001b[38;5;124mexec\u001b[39m\u001b[38;5;124m'\u001b[39m)\n\u001b[0;32m--> 252\u001b[0m         \u001b[43mexec\u001b[49m\u001b[43m(\u001b[49m\u001b[43mcode\u001b[49m\u001b[43m,\u001b[49m\u001b[43m \u001b[49m\u001b[38;5;28;43mglobals\u001b[39;49m\u001b[43m)\u001b[49m\n\u001b[1;32m    253\u001b[0m \u001b[38;5;28;01melif\u001b[39;00m ext \u001b[38;5;241m==\u001b[39m \u001b[38;5;124m'\u001b[39m\u001b[38;5;124m.sage\u001b[39m\u001b[38;5;124m'\u001b[39m:\n\u001b[1;32m    254\u001b[0m     \u001b[38;5;28;01mfrom\u001b[39;00m \u001b[38;5;21;01msage\u001b[39;00m\u001b[38;5;21;01m.\u001b[39;00m\u001b[38;5;21;01mrepl\u001b[39;00m\u001b[38;5;21;01m.\u001b[39;00m\u001b[38;5;21;01mattach\u001b[39;00m \u001b[38;5;28;01mimport\u001b[39;00m load_attach_mode\n",
      "File \u001b[0;32m~/Database/sample_data/add_functions_dim_1.py:20\u001b[0m\n\u001b[1;32m     18\u001b[0m \u001b[38;5;28;01mfor\u001b[39;00m c \u001b[38;5;129;01min\u001b[39;00m QQ\u001b[38;5;241m.\u001b[39mrange_by_height(\u001b[38;5;241m20\u001b[39m):\n\u001b[1;32m     19\u001b[0m     F\u001b[38;5;241m=\u001b[39mDynamicalSystem([x\u001b[38;5;241m*\u001b[39m\u001b[38;5;241m*\u001b[39m\u001b[38;5;241m2\u001b[39m\u001b[38;5;241m+\u001b[39mc\u001b[38;5;241m*\u001b[39my\u001b[38;5;241m*\u001b[39m\u001b[38;5;241m*\u001b[39m\u001b[38;5;241m2\u001b[39m,y\u001b[38;5;241m*\u001b[39m\u001b[38;5;241m*\u001b[39m\u001b[38;5;241m2\u001b[39m]) \u001b[38;5;66;03m#polys\u001b[39;00m\n\u001b[0;32m---> 20\u001b[0m     label \u001b[38;5;241m=\u001b[39m \u001b[43madd_function_all_NF\u001b[49m\u001b[43m(\u001b[49m\u001b[43mF\u001b[49m\u001b[43m)\u001b[49m\n\u001b[1;32m     23\u001b[0m \u001b[38;5;124;03m\"\"\"\u001b[39;00m\n\u001b[1;32m     24\u001b[0m \u001b[38;5;124;03m#all quadratic rational\u001b[39;00m\n\u001b[1;32m     25\u001b[0m \u001b[38;5;124;03mP=ProjectiveSpace(QQ,1,'x,y')\u001b[39;00m\n\u001b[0;32m   (...)\u001b[0m\n\u001b[1;32m     35\u001b[0m \u001b[38;5;124;03m        label = add_function_all_NF(F, log_file=log_file)\u001b[39;00m\n\u001b[1;32m     36\u001b[0m \u001b[38;5;124;03m\"\"\"\u001b[39;00m\n\u001b[1;32m     38\u001b[0m \u001b[38;5;66;03m##cubic poly\u001b[39;00m\n\u001b[1;32m     39\u001b[0m \u001b[38;5;66;03m#P=ProjectiveSpace(QQ,1,'x,y')\u001b[39;00m\n\u001b[1;32m     40\u001b[0m \u001b[38;5;66;03m#x,y = P.gens()\u001b[39;00m\n\u001b[0;32m   (...)\u001b[0m\n\u001b[1;32m     48\u001b[0m \u001b[38;5;66;03m#        F=DynamicalSystem([x**3 + s1*x*y**2 + s2*y**3, y**3])\u001b[39;00m\n\u001b[1;32m     49\u001b[0m \u001b[38;5;66;03m#        label = add_function_all_NF(F, log_file=log_file)\u001b[39;00m\n",
      "File \u001b[0;32m~/Database/functions/function_dim_1_helpers_NF.py:1291\u001b[0m, in \u001b[0;36madd_function_all_NF\u001b[0;34m(F, log_file)\u001b[0m\n\u001b[1;32m   1289\u001b[0m add_is_pcf(label,\u001b[38;5;124m'\u001b[39m\u001b[38;5;124moriginal\u001b[39m\u001b[38;5;124m'\u001b[39m,log_file\u001b[38;5;241m=\u001b[39mlog_file)\n\u001b[1;32m   1290\u001b[0m add_critical_portrait(label,\u001b[38;5;124m'\u001b[39m\u001b[38;5;124moriginal\u001b[39m\u001b[38;5;124m'\u001b[39m,log_file\u001b[38;5;241m=\u001b[39mlog_file)\n\u001b[0;32m-> 1291\u001b[0m add_automorphism_group_NF(label,\u001b[38;5;124m'\u001b[39m\u001b[38;5;124moriginal\u001b[39m\u001b[38;5;124m'\u001b[39m,log_file\u001b[38;5;241m=\u001b[39mlog_file)\n\u001b[1;32m   1292\u001b[0m add_rational_preperiodic_points_NF(label,log_file\u001b[38;5;241m=\u001b[39mlog_file)\n\u001b[1;32m   1293\u001b[0m \u001b[38;5;28;01mif\u001b[39;00m label \u001b[38;5;129;01mnot\u001b[39;00m \u001b[38;5;129;01min\u001b[39;00m [\u001b[38;5;124m'\u001b[39m\u001b[38;5;124m1.2.c8ddd2a7.1\u001b[39m\u001b[38;5;124m'\u001b[39m, \u001b[38;5;124m'\u001b[39m\u001b[38;5;124m1.2.611af5d0.1\u001b[39m\u001b[38;5;124m'\u001b[39m, \u001b[38;5;124m'\u001b[39m\u001b[38;5;124m1.2.7cb63904.1\u001b[39m\u001b[38;5;124m'\u001b[39m,\\\n\u001b[1;32m   1294\u001b[0m     \u001b[38;5;124m'\u001b[39m\u001b[38;5;124m1.2.0d94343e.1\u001b[39m\u001b[38;5;124m'\u001b[39m,\u001b[38;5;124m'\u001b[39m\u001b[38;5;124m1.2.beb83dd2.1\u001b[39m\u001b[38;5;124m'\u001b[39m,\u001b[38;5;124m'\u001b[39m\u001b[38;5;124m1.2.dd6fd9ae.1\u001b[39m\u001b[38;5;124m'\u001b[39m,\u001b[38;5;124m'\u001b[39m\u001b[38;5;124m1.2.4994c36e.1\u001b[39m\u001b[38;5;124m'\u001b[39m,\\\n\u001b[1;32m   1295\u001b[0m     \u001b[38;5;124m'\u001b[39m\u001b[38;5;124m1.2.98d76bdd.1\u001b[39m\u001b[38;5;124m'\u001b[39m]:\n",
      "File \u001b[0;32m~/Database/functions/function_dim_1_helpers_NF.py:350\u001b[0m, in \u001b[0;36madd_function_NF\u001b[0;34m(F, citations, family, keywords, action, bool_add_field, log_file, timeout)\u001b[0m\n\u001b[1;32m    347\u001b[0m found, L \u001b[38;5;241m=\u001b[39m conj_in_database_NF(F, conj_fns\u001b[38;5;241m=\u001b[39mconj_fns, log_file\u001b[38;5;241m=\u001b[39mlog_file, timeout\u001b[38;5;241m=\u001b[39mtimeout)\n\u001b[1;32m    349\u001b[0m \u001b[38;5;66;03m# TODO: need to update found == 1 section\u001b[39;00m\n\u001b[0;32m--> 350\u001b[0m \u001b[38;5;28;01mif\u001b[39;00m found \u001b[38;5;241m==\u001b[39m \u001b[38;5;241m1\u001b[39m:\n\u001b[1;32m    351\u001b[0m     \u001b[38;5;66;03m#function or rational conjugate already there\u001b[39;00m\n\u001b[1;32m    352\u001b[0m     log_file\u001b[38;5;241m.\u001b[39mwrite(\u001b[38;5;124m'\u001b[39m\u001b[38;5;124mfunction already known for : \u001b[39m\u001b[38;5;124m'\u001b[39m \u001b[38;5;241m+\u001b[39m L[\u001b[38;5;124m'\u001b[39m\u001b[38;5;124mlabel\u001b[39m\u001b[38;5;124m'\u001b[39m] \u001b[38;5;241m+\u001b[39m \u001b[38;5;124m'\u001b[39m\u001b[38;5;130;01m\\n\u001b[39;00m\u001b[38;5;124m'\u001b[39m)\n\u001b[1;32m    353\u001b[0m     \u001b[38;5;28;01mreturn\u001b[39;00m L[label]\n",
      "\u001b[0;31mTypeError\u001b[0m: cannot unpack non-iterable int object"
     ]
    }
   ],
   "source": [
    "load(\"sample_data/add_functions_dim_1.py\")"
   ]
  },
  {
   "cell_type": "code",
   "execution_count": 7,
   "id": "222cefda",
   "metadata": {},
   "outputs": [],
   "source": [
    "my_session.commit()"
   ]
  },
  {
   "cell_type": "code",
   "execution_count": 66,
   "id": "361b6c2d",
   "metadata": {},
   "outputs": [],
   "source": [
    "#twist example\n",
    "P=ProjectiveSpace(QQ,1,'x,y')\n",
    "x,y = P.gens()\n",
    "F=DynamicalSystem([x^2-2*x*y,-2*x*y+y^2])\n",
    "#add_function_all_NF(F)\n",
    "p=2\n",
    "q=4\n",
    "G = DynamicalSystem([2*p*x*y-3*q*y^2,3*x^2 - p*y^2])\n",
    "p=6\n",
    "q=21\n",
    "G2 = DynamicalSystem([2*p*x*y-3*q*y^2,3*x^2 - p*y^2])"
   ]
  },
  {
   "cell_type": "code",
   "execution_count": 67,
   "id": "13ce3bd3",
   "metadata": {},
   "outputs": [
    {
     "name": "stdout",
     "output_type": "stream",
     "text": [
      "Searching for functions: 1.2.a35a25cc.: 1.2.a35a25cc.1\n",
      "Dynamical System of Projective Space of dimension 1 over Rational Field\n",
      "  Defn: Defined on coordinates by sending (x : y) to\n",
      "        (x^2 - 2*x*y : -2*x*y + y^2)\n",
      "[ 0.1156095559774682? + 0.2307464545113763?*I  0.4013112332489814? + 0.8009817479606788?*I]\n",
      "[-0.2868969134879112? + 0.2880771137820680?*I                                            1] [0.1156095559774682? + 0.2307464545113763?*I, 0.4013112332489814? + 0.8009817479606788?*I, -0.2868969134879112? + 0.2880771137820680?*I, 1]\n",
      "Normalized field:Number Field in a with defining polynomial y^6 - 3*y^5 + 102*y^4 - 199*y^3 + 3501*y^2 - 3402*y + 46876 to Number Field in a with defining polynomial y^6 - 36*y^4 + 324*y^2 + 11043 with a = -5.206895267297741? - 1.742771578511999?*I\n",
      "[-0.4025064694653794? - 0.05733065927069170?*I   0.5986887667510186? + 0.8009817479606788?*I]\n",
      "[ -0.2868969134879112? - 0.2880771137820680?*I                                             1] [-0.4025064694653794? - 0.05733065927069170?*I, 0.5986887667510186? + 0.8009817479606788?*I, -0.2868969134879112? - 0.2880771137820680?*I, 1]\n",
      "Normalized field:Number Field in a with defining polynomial y^6 - 3*y^5 + 102*y^4 - 199*y^3 + 3501*y^2 - 3402*y + 46876 to Number Field in a with defining polynomial y^6 - 36*y^4 + 324*y^2 + 11043 with a = -5.206895267297741? - 1.742771578511999?*I\n",
      "[-0.4025064694653794? + 0.05733065927069170?*I   0.5986887667510186? - 0.8009817479606788?*I]\n",
      "[ -0.2868969134879112? + 0.2880771137820680?*I                                             1] [-0.4025064694653794? + 0.05733065927069170?*I, 0.5986887667510186? - 0.8009817479606788?*I, -0.2868969134879112? + 0.2880771137820680?*I, 1]\n",
      "Normalized field:Number Field in a with defining polynomial y^6 - 3*y^5 + 102*y^4 - 199*y^3 + 3501*y^2 - 3402*y + 46876 to Number Field in a with defining polynomial y^6 - 36*y^4 + 324*y^2 + 11043 with a = -5.206895267297741? - 1.742771578511999?*I\n",
      "[0.1440397706307684? - 0.4303489965336478?*I  0.500000000000000? + 0.9979558028764846?*I]\n",
      "[            0.2880795412615368? + 0.?e-17*I                                           1] [0.1440397706307684? - 0.4303489965336478?*I, 0.500000000000000? + 0.9979558028764846?*I, 0.2880795412615368? + 0.?e-17*I, 1]\n",
      "Normalized field:Number Field in a with defining polynomial y^6 - 3*y^5 + 102*y^4 - 199*y^3 + 3501*y^2 - 3402*y + 46876 to Number Field in a with defining polynomial y^6 - 36*y^4 + 324*y^2 + 11043 with a = -5.206895267297741? - 1.742771578511999?*I\n",
      "[ 0.1156095559774682? - 0.2307464545113763?*I  0.4013112332489814? - 0.8009817479606788?*I]\n",
      "[-0.2868969134879112? - 0.2880771137820680?*I                                            1] [0.1156095559774682? - 0.2307464545113763?*I, 0.4013112332489814? - 0.8009817479606788?*I, -0.2868969134879112? - 0.2880771137820680?*I, 1]\n",
      "Normalized field:Number Field in a with defining polynomial y^6 - 3*y^5 + 102*y^4 - 199*y^3 + 3501*y^2 - 3402*y + 46876 to Number Field in a with defining polynomial y^6 - 36*y^4 + 324*y^2 + 11043 with a = -5.206895267297741? - 1.742771578511999?*I\n",
      "[0.1440397706307684? + 0.4303489965336478?*I  0.500000000000000? - 0.9979558028764846?*I]\n",
      "[            0.2880795412615368? + 0.?e-17*I                                           1] [0.1440397706307684? + 0.4303489965336478?*I, 0.500000000000000? - 0.9979558028764846?*I, 0.2880795412615368? + 0.?e-17*I, 1]\n",
      "Normalized field:Number Field in a with defining polynomial y^6 - 3*y^5 + 102*y^4 - 199*y^3 + 3501*y^2 - 3402*y + 46876 to Number Field in a with defining polynomial y^6 - 36*y^4 + 324*y^2 + 11043 with a = -5.206895267297741? - 1.742771578511999?*I\n",
      "has twist in db: [4*x*y - 21*y^2, x^2 - 2*y^2] as ['1.2.a35a25cc.1', '1.2.a35a25cc.2']\n",
      "original computed: \n",
      "inserted: [4*x*y - 21*y^2, x^2 - 2*y^2] as 1.2.a35a25cc.3\n",
      "twist list: ['1.2.a35a25cc.1', '1.2.a35a25cc.2'] for 1.2.a35a25cc.3\n",
      "updating twist list for: 1.2.a35a25cc.1\n",
      "updating twist list for: 1.2.a35a25cc.2\n",
      "computing sigmas for : 1.2.a35a25cc.3 from 2 to 3\n",
      "updated 1 functions for sigma.2\n",
      "updated 1 functions for sigma.3\n",
      "computing is_pcf for : 1.2.a35a25cc.3\n",
      "updated 1 functions for is_pcf \n",
      "is_pcf finished\n",
      "computing critical portrait for:1.2.a35a25cc.3\n"
     ]
    },
    {
     "name": "stderr",
     "output_type": "stream",
     "text": [
      "/home/ben/Database/functions/function_dim_1_helpers_NF.py:573: DeprecationWarning: parameter 'sort' will be set to False by default in the future\n",
      "See https://github.com/sagemath/sage/issues/22349 for details.\n",
      "  query['critical_portrait_cardinality'] = int(len(g.vertices()))\n"
     ]
    },
    {
     "name": "stdout",
     "output_type": "stream",
     "text": [
      "critical portrait added:1.2.a35a25cc.3\n",
      "starting aut group for:1.2.a35a25cc.3\n",
      "aut group computed for:1.2.a35a25cc.3\n",
      "starting rational preperiodic points for:1.2.a35a25cc.3\n",
      "rational preperiodic points computed for:1.2.a35a25cc.3\n",
      "Computing reduced model for:1.2.a35a25cc.3\n",
      "trying reduced with dynatomic \n"
     ]
    },
    {
     "name": "stderr",
     "output_type": "stream",
     "text": [
      "/home/ben/Database/functions/function_dim_1_helpers_NF.py:672: DeprecationWarning: parameter 'sort' will be set to False by default in the future\n",
      "See https://github.com/sagemath/sage/issues/22349 for details.\n",
      "  query['number_rational_preperiodic'] = len(preper.vertices())\n"
     ]
    },
    {
     "name": "stdout",
     "output_type": "stream",
     "text": [
      "reduced form computed \n",
      "reduced model computed: 1.2.a35a25cc.3\n",
      "starting is_polynomial for:1.2.a35a25cc.3\n",
      "is polynomial computed: 1.2.a35a25cc.3\n",
      "starting chebyshev model for:1.2.a35a25cc.3\n",
      "chebyshev model done for:1.2.a35a25cc.3\n",
      "starting newton model for:1.2.a35a25cc.3\n",
      "newton model done for:1.2.a35a25cc.3\n",
      "starting is lattes for:1.2.a35a25cc.3\n",
      "is lattes complete for 1.2.a35a25cc.3\n"
     ]
    },
    {
     "data": {
      "text/plain": [
       "'1.2.a35a25cc.3'"
      ]
     },
     "execution_count": 67,
     "metadata": {},
     "output_type": "execute_result"
    }
   ],
   "source": [
    "add_function_all_NF(G2)"
   ]
  },
  {
   "cell_type": "code",
   "execution_count": 68,
   "id": "48eb1036",
   "metadata": {},
   "outputs": [],
   "source": [
    "my_session.commit()"
   ]
  },
  {
   "cell_type": "code",
   "execution_count": 87,
   "id": "881fa7f8",
   "metadata": {},
   "outputs": [
    {
     "data": {
      "text/plain": [
       "0"
      ]
     },
     "execution_count": 87,
     "metadata": {},
     "output_type": "execute_result"
    }
   ],
   "source": [
    "my_cursor.rowcount"
   ]
  },
  {
   "cell_type": "code",
   "execution_count": 6,
   "id": "7906237f",
   "metadata": {},
   "outputs": [
    {
     "name": "stdout",
     "output_type": "stream",
     "text": [
      "Searching for functions: 1.2.c9569bc0.: original computed: \n",
      "inserted: [x^2 - 4*y^2, y^2] as 1.2.c9569bc0.1\n",
      "computing sigmas for : 1.2.c9569bc0.1 from 2 to 3\n",
      "updated 1 functions for sigma.2\n",
      "updated 1 functions for sigma.3\n",
      "computing is_pcf for : 1.2.c9569bc0.1\n",
      "updated 1 functions for is_pcf \n",
      "is_pcf finished\n",
      "computing critical portrait for:1.2.c9569bc0.1\n",
      "critical portrait: not pcf:1.2.c9569bc0.1\n",
      "starting aut group for:1.2.c9569bc0.1\n",
      "aut group computed for:1.2.c9569bc0.1\n",
      "starting rational preperiodic points for:1.2.c9569bc0.1\n",
      "rational preperiodic points computed for:1.2.c9569bc0.1\n",
      "Computing reduced model for:1.2.c9569bc0.1\n",
      "trying reduced with dynatomic \n"
     ]
    },
    {
     "name": "stderr",
     "output_type": "stream",
     "text": [
      "/home/ben/Database/functions/function_dim_1_helpers_NF.py:678: DeprecationWarning: parameter 'sort' will be set to False by default in the future\n",
      "See https://github.com/sagemath/sage/issues/22349 for details.\n",
      "  query['number_rational_preperiodic'] = len(preper.vertices())\n"
     ]
    },
    {
     "name": "stdout",
     "output_type": "stream",
     "text": [
      "reduced form computed \n",
      "reduced model computed: 1.2.c9569bc0.1\n",
      "starting is_polynomial for:1.2.c9569bc0.1\n",
      "is polynomial computed: 1.2.c9569bc0.1\n",
      "monic centered model computed: 1.2.c9569bc0.1\n",
      "starting chebyshev model for:1.2.c9569bc0.1\n",
      "chebyshev model done for:1.2.c9569bc0.1\n",
      "starting newton model for:1.2.c9569bc0.1\n",
      "newton model done for:1.2.c9569bc0.1\n",
      "starting is lattes for:1.2.c9569bc0.1\n",
      "lattes done for:1.2.c9569bc0.1\n"
     ]
    }
   ],
   "source": [
    "P=ProjectiveSpace(QQ,1,'x,y')\n",
    "x,y = P.gens()\n",
    "F=DynamicalSystem([x^2-4*y^2,y^2])\n",
    "add_function_all_NF(F)\n",
    "G = F.conjugate(matrix(QQ,2,2,[1,2,3,4]))"
   ]
  },
  {
   "cell_type": "code",
   "execution_count": 5,
   "id": "6f30d5ff",
   "metadata": {},
   "outputs": [],
   "source": [
    "my_session.commit()"
   ]
  },
  {
   "cell_type": "code",
   "execution_count": 14,
   "id": "7766d6e6",
   "metadata": {},
   "outputs": [],
   "source": [
    "import psycopg2\n",
    "import psycopg2.extras\n",
    "my_session = psycopg2.connect(database=\"dad\",\n",
    "            host=\"localhost\",\n",
    "            user=\"dad_user\",\n",
    "            password=\"dad_pass\",\n",
    "            port=\"5432\")\n",
    "    \n",
    "my_cursor = my_session.cursor(cursor_factory=psycopg2.extras.DictCursor)\n",
    "#my_cursor = my_session.cursor()"
   ]
  },
  {
   "cell_type": "code",
   "execution_count": 9,
   "id": "45b480a4",
   "metadata": {},
   "outputs": [
    {
     "data": {
      "text/plain": [
       "12"
      ]
     },
     "execution_count": 9,
     "metadata": {},
     "output_type": "execute_result"
    }
   ],
   "source": [
    "my_cursor.execute(\"\"\"SELECT * FROM functions_dim_1_NF\"\"\")\n",
    "my_cursor.rowcount"
   ]
  },
  {
   "cell_type": "code",
   "execution_count": null,
   "id": "fe0c0dda",
   "metadata": {},
   "outputs": [],
   "source": []
  },
  {
   "cell_type": "code",
   "execution_count": 9,
   "id": "6d2213df",
   "metadata": {},
   "outputs": [
    {
     "name": "stdout",
     "output_type": "stream",
     "text": [
      "Searching for functions: 1.2.a6935bbd.: original computed: \n",
      "inserted: [x^2 - 2*y^2, y^2] as 1.2.a6935bbd.1\n",
      "computing sigmas for : 1.2.a6935bbd.1 from 2 to 3\n",
      "updated 1 functions for sigma.2\n",
      "updated 1 functions for sigma.3\n",
      "computing is_pcf for : 1.2.a6935bbd.1\n",
      "updated 1 functions for is_pcf \n",
      "is_pcf finished\n",
      "computing critical portrait for:1.2.a6935bbd.1\n"
     ]
    },
    {
     "name": "stderr",
     "output_type": "stream",
     "text": [
      "/media/sf_VBShare/Database/functions/function_dim_1_helpers.py:569: DeprecationWarning: parameter 'sort' will be set to False by default in the future\n",
      "See https://github.com/sagemath/sage/issues/22349 for details.\n",
      "  query['critical_portrait_cardinality'] = int(len(g.vertices()))\n"
     ]
    },
    {
     "name": "stdout",
     "output_type": "stream",
     "text": [
      "critical portrait added:1.2.a6935bbd.1\n",
      "starting aut group for:1.2.a6935bbd.1\n",
      "aut group computed for:1.2.a6935bbd.1\n",
      "starting rational preperiodic points for:1.2.a6935bbd.1\n",
      "rational preperiodic points computed for:1.2.a6935bbd.1\n",
      "Computing reduced model for:1.2.a6935bbd.1\n",
      "trying reduced with dynatomic \n"
     ]
    },
    {
     "name": "stderr",
     "output_type": "stream",
     "text": [
      "/media/sf_VBShare/Database/functions/function_dim_1_helpers.py:668: DeprecationWarning: parameter 'sort' will be set to False by default in the future\n",
      "See https://github.com/sagemath/sage/issues/22349 for details.\n",
      "  query['number_rational_preperiodic'] = len(preper.vertices())\n"
     ]
    },
    {
     "name": "stdout",
     "output_type": "stream",
     "text": [
      "reduced form computed \n",
      "reduced model computed: 1.2.a6935bbd.1\n",
      "starting is_polynomial for:1.2.a6935bbd.1\n",
      "is polynomial computed: 1.2.a6935bbd.1\n",
      "monic centered model computed: 1.2.a6935bbd.1\n",
      "starting chebyshev model for:1.2.a6935bbd.1\n",
      "computing chebyshev model for:1.2.a6935bbd.1\n",
      "chebyshev model done for:1.2.a6935bbd.1\n",
      "starting newton model for:1.2.a6935bbd.1\n",
      "newton model done for:1.2.a6935bbd.1\n",
      "starting is lattes for:1.2.a6935bbd.1\n",
      "is lattes complete for 1.2.a6935bbd.1\n"
     ]
    }
   ],
   "source": [
    "P.<x,y>=ProjectiveSpace(QQ,1)\n",
    "F=DynamicalSystem([x^2-2*y^2,y^2]) #Cheby\n",
    "label = add_function_all_NF(F)"
   ]
  },
  {
   "cell_type": "code",
   "execution_count": 10,
   "id": "0e07d853",
   "metadata": {},
   "outputs": [
    {
     "name": "stdout",
     "output_type": "stream",
     "text": [
      "None\n",
      "[['1.2.a6935bbd.1', 1, 2, '1.1.1.1', 1, '(\"{2,-8,0}\",\"{12,-80,-192,1024,0}\",\"{56,-704,-10752,110592,688128,-6553600,-14680064,134217728,0}\")', None, None, '(\"{{1,0,-2},{0,0,1}}\",1,{},,1.1.1.1,\"{1,0,0,1}\",1.1.1.1)', '(\"{{1,0,-2},{0,0,1}}\",1,{},,1.1.1.1,\"{1,0,0,1}\",1.1.1.1)', '(\"{{2,0,-1},{0,0,1}}\",4,{2},,1.1.1.1,\"{2,0,0,1}\",1.1.1.1)', '(\"{{1,0,-2},{0,0,1}}\",1,{},,1.1.1.1,\"{1,1,0,1}\",1.1.1.1)', None, 'chebyshev', True, True, False, False, True, 1, None, 6, [1, 1, 1], [3, 2, 1], None, [['-1', '1'], ['1', '0'], ['2', '1']], 4, 3, [3, 1], [3, 1], None]]\n"
     ]
    }
   ],
   "source": [
    "my_cursor.execute(\"\"\"SELECT * FROM functions_dim_1_NF WHERE label = %s\"\"\",[label])\n",
    "print(my_cursor.fetchall())"
   ]
  },
  {
   "cell_type": "code",
   "execution_count": 4,
   "id": "394a1b7f",
   "metadata": {},
   "outputs": [
    {
     "name": "stdout",
     "output_type": "stream",
     "text": [
      "Searching for functions: 1.4.7e1406dd.: original computed: \n",
      "inserted: [x^4 - 8*x*y^3, 4*x^3*y + 4*y^4] as 1.4.7e1406dd.1\n",
      "computing sigmas for : 1.4.7e1406dd.1 from 2 to 3\n",
      "updated 1 functions for sigma.2\n",
      "updated 1 functions for sigma.3\n",
      "computing is_pcf for : 1.4.7e1406dd.1\n",
      "updated 1 functions for is_pcf \n",
      "is_pcf finished\n",
      "computing critical portrait for:1.4.7e1406dd.1\n"
     ]
    },
    {
     "name": "stderr",
     "output_type": "stream",
     "text": [
      "/media/sf_VBShare/Database/functions/function_dim_1_helpers.py:574: DeprecationWarning: parameter 'sort' will be set to False by default in the future\n",
      "See https://github.com/sagemath/sage/issues/22349 for details.\n",
      "  query['critical_portrait_cardinality'] = int(len(g.vertices()))\n"
     ]
    },
    {
     "name": "stdout",
     "output_type": "stream",
     "text": [
      "critical portrait added:1.4.7e1406dd.1\n",
      "starting aut group for:1.4.7e1406dd.1\n",
      "aut group computed for:1.4.7e1406dd.1\n",
      "starting rational preperiodic points for:1.4.7e1406dd.1\n",
      "rational preperiodic points computed for:1.4.7e1406dd.1\n",
      "Computing reduced model for:1.4.7e1406dd.1\n",
      "trying reduced with dynatomic \n"
     ]
    },
    {
     "name": "stderr",
     "output_type": "stream",
     "text": [
      "/media/sf_VBShare/Database/functions/function_dim_1_helpers.py:673: DeprecationWarning: parameter 'sort' will be set to False by default in the future\n",
      "See https://github.com/sagemath/sage/issues/22349 for details.\n",
      "  query['number_rational_preperiodic'] = len(preper.vertices())\n"
     ]
    },
    {
     "name": "stdout",
     "output_type": "stream",
     "text": [
      "reduced form computed \n",
      "reduced model computed: 1.4.7e1406dd.1\n",
      "starting is_polynomial for:1.4.7e1406dd.1\n",
      "is polynomial computed: 1.4.7e1406dd.1\n",
      "starting chebyshev model for:1.4.7e1406dd.1\n",
      "chebyshev model done for:1.4.7e1406dd.1\n",
      "starting newton model for:1.4.7e1406dd.1\n",
      "newton model done for:1.4.7e1406dd.1\n",
      "starting is lattes for:1.4.7e1406dd.1\n",
      "is lattes complete for 1.4.7e1406dd.1\n"
     ]
    }
   ],
   "source": [
    "P.<x,y>=ProjectiveSpace(QQ,1)\n",
    "F=DynamicalSystem([x^2-2*y^2,y^2]) #Cheby\n",
    "F=DynamicalSystem([2/3*x^3+x^2*y - 1/3*y^3, x^2*y + 2*x*y^2]) #Newton\n",
    "E=EllipticCurve([0,0,0,0,1])\n",
    "F=P.Lattes_map(E,2)\n",
    "label=add_function_all_NF(F)\n",
    "#label"
   ]
  },
  {
   "cell_type": "code",
   "execution_count": 17,
   "id": "b8979415",
   "metadata": {},
   "outputs": [
    {
     "name": "stdout",
     "output_type": "stream",
     "text": [
      "(Column(name='display_model', type_code=16747),)\n",
      "[['1.2.a6935bbd.1', 1, 2, '(1.1.1.1,1)', '(\"{2,-8,0}\",\"{12,-80,-192,1024,0}\",\"{56,-704,-10752,110592,688128,-6553600,-14680064,134217728,0}\")', None, None, '(\"{{1,0,-2},{0,0,1}}\",1,{},,\"(1.1.1.1,1)\",\"{1,0,0,1}\",1.1.1.1)', '(\"{{1,0,-2},{0,0,1}}\",1,{},,\"(1.1.1.1,1)\",\"{1,0,0,1}\",1.1.1.1)', '(\"{{2,0,-1},{0,0,1}}\",4,{2},,\"(1.1.1.1,1)\",\"{2,0,0,1}\",1.1.1.1)', '(\"{{1,0,-2},{0,0,1}}\",1,{},,\"(1.1.1.1,1)\",\"{1,1,0,1}\",1.1.1.1)', None, 'chebyshev', True, True, False, False, True, 1, None, 6, [1, 1, 1], [3, 2, 1], None, [['-1', '1'], ['1', '0'], ['2', '1']], 4, 3, [3, 1], [3, 1], None]]\n"
     ]
    }
   ],
   "source": [
    "print(my_cursor.description)\n",
    "my_cursor.execute(\"\"\"SELECT * FROM functions_dim_1_NF\"\"\")\n",
    "print(my_cursor.fetchall())"
   ]
  },
  {
   "cell_type": "code",
   "execution_count": 5,
   "id": "8fa784f4",
   "metadata": {},
   "outputs": [
    {
     "name": "stdout",
     "output_type": "stream",
     "text": [
      "computing sigmas for : 1.2.a6935bbd.1 from 2 to 3\n",
      "updated 1 functions for sigma.2\n",
      "updated 1 functions for sigma.3\n"
     ]
    },
    {
     "data": {
      "text/plain": [
       "True"
      ]
     },
     "execution_count": 5,
     "metadata": {},
     "output_type": "execute_result"
    }
   ],
   "source": [
    "add_sigma_inv_NF(label,'original',2,3)"
   ]
  },
  {
   "cell_type": "code",
   "execution_count": 6,
   "id": "7ab7d4a5",
   "metadata": {},
   "outputs": [
    {
     "name": "stdout",
     "output_type": "stream",
     "text": [
      "computing is_pcf for : 1.2.a6935bbd.1\n",
      "updated 1 functions for is_pcf \n",
      "is_pcf finished\n"
     ]
    },
    {
     "data": {
      "text/plain": [
       "True"
      ]
     },
     "execution_count": 6,
     "metadata": {},
     "output_type": "execute_result"
    }
   ],
   "source": [
    "add_is_pcf(label,'original')"
   ]
  },
  {
   "cell_type": "code",
   "execution_count": 7,
   "id": "0eeda2f6",
   "metadata": {
    "scrolled": true
   },
   "outputs": [
    {
     "name": "stdout",
     "output_type": "stream",
     "text": [
      "computing critical portrait for:1.2.a6935bbd.1\n",
      "Dynamical System of Projective Space of dimension 1 over Rational Field\n",
      "  Defn: Defined on coordinates by sending (x : y) to\n",
      "        (x^2 - 2*y^2 : y^2)\n",
      "critical portrait added:1.2.a6935bbd.1\n"
     ]
    },
    {
     "name": "stderr",
     "output_type": "stream",
     "text": [
      "/home/ben/Dropbox/VBShare/Database/functions/function_dim_1_helpers.py:574: DeprecationWarning: parameter 'sort' will be set to False by default in the future\n",
      "See https://github.com/sagemath/sage/issues/22349 for details.\n",
      "  query['critical_portrait_cardinality'] = int(len(g.vertices()))\n"
     ]
    },
    {
     "data": {
      "text/plain": [
       "True"
      ]
     },
     "execution_count": 7,
     "metadata": {},
     "output_type": "execute_result"
    }
   ],
   "source": [
    "add_critical_portrait(label,'original')"
   ]
  },
  {
   "cell_type": "code",
   "execution_count": 8,
   "id": "3017b844",
   "metadata": {},
   "outputs": [
    {
     "name": "stdout",
     "output_type": "stream",
     "text": [
      "starting aut group for:1.2.a6935bbd.1\n",
      "aut group computed for:1.2.a6935bbd.1\n"
     ]
    },
    {
     "data": {
      "text/plain": [
       "True"
      ]
     },
     "execution_count": 8,
     "metadata": {},
     "output_type": "execute_result"
    }
   ],
   "source": [
    "add_automorphism_group_NF(label,'original')"
   ]
  },
  {
   "cell_type": "code",
   "execution_count": 9,
   "id": "1fb2f23f",
   "metadata": {},
   "outputs": [
    {
     "name": "stdout",
     "output_type": "stream",
     "text": [
      "starting rational preperiodic points for:1.2.a6935bbd.1\n",
      "rational preperiodic points computed for:1.2.a6935bbd.1\n"
     ]
    },
    {
     "name": "stderr",
     "output_type": "stream",
     "text": [
      "/home/ben/Dropbox/VBShare/Database/functions/function_dim_1_helpers.py:673: DeprecationWarning: parameter 'sort' will be set to False by default in the future\n",
      "See https://github.com/sagemath/sage/issues/22349 for details.\n",
      "  query['number_rational_preperiodic'] = len(preper.vertices())\n"
     ]
    },
    {
     "data": {
      "text/plain": [
       "True"
      ]
     },
     "execution_count": 9,
     "metadata": {},
     "output_type": "execute_result"
    }
   ],
   "source": [
    "add_rational_preperiodic_points_NF(label)"
   ]
  },
  {
   "cell_type": "code",
   "execution_count": 10,
   "id": "5a8e52c8",
   "metadata": {},
   "outputs": [
    {
     "name": "stdout",
     "output_type": "stream",
     "text": [
      "Computing reduced model for:1.2.a6935bbd.1\n",
      "trying reduced with dynatomic \n",
      "reduced form computed \n",
      "reduced model computed: 1.2.a6935bbd.1\n"
     ]
    },
    {
     "data": {
      "text/plain": [
       "True"
      ]
     },
     "execution_count": 10,
     "metadata": {},
     "output_type": "execute_result"
    }
   ],
   "source": [
    "add_reduced_model_NF(label)"
   ]
  },
  {
   "cell_type": "code",
   "execution_count": 11,
   "id": "119c73f7",
   "metadata": {},
   "outputs": [
    {
     "name": "stdout",
     "output_type": "stream",
     "text": [
      "starting is_polynomial for:1.2.a6935bbd.1\n",
      "is polynomial computed: 1.2.a6935bbd.1\n"
     ]
    },
    {
     "data": {
      "text/plain": [
       "True"
      ]
     },
     "execution_count": 11,
     "metadata": {},
     "output_type": "execute_result"
    }
   ],
   "source": [
    "add_is_polynomial_NF(label)"
   ]
  },
  {
   "cell_type": "code",
   "execution_count": 12,
   "id": "0fb837b6",
   "metadata": {},
   "outputs": [
    {
     "name": "stdout",
     "output_type": "stream",
     "text": [
      "monic centered model computed: 1.2.a6935bbd.1\n"
     ]
    },
    {
     "data": {
      "text/plain": [
       "True"
      ]
     },
     "execution_count": 12,
     "metadata": {},
     "output_type": "execute_result"
    }
   ],
   "source": [
    "add_monic_centered_model_NF(label)"
   ]
  },
  {
   "cell_type": "code",
   "execution_count": 13,
   "id": "a5ad31eb",
   "metadata": {},
   "outputs": [
    {
     "name": "stdout",
     "output_type": "stream",
     "text": [
      "starting chebyshev model for:1.2.a6935bbd.1\n",
      "T\n",
      "computing chebyshev model for:1.2.a6935bbd.1\n",
      "chebyshev model done for:1.2.a6935bbd.1\n"
     ]
    },
    {
     "data": {
      "text/plain": [
       "True"
      ]
     },
     "execution_count": 13,
     "metadata": {},
     "output_type": "execute_result"
    }
   ],
   "source": [
    "add_chebyshev_model_NF(label)"
   ]
  },
  {
   "cell_type": "code",
   "execution_count": 14,
   "id": "8a45c46d",
   "metadata": {},
   "outputs": [
    {
     "name": "stdout",
     "output_type": "stream",
     "text": [
      "starting newton model for:1.2.a6935bbd.1\n",
      "newton model done for:1.2.a6935bbd.1\n"
     ]
    },
    {
     "data": {
      "text/plain": [
       "True"
      ]
     },
     "execution_count": 14,
     "metadata": {},
     "output_type": "execute_result"
    }
   ],
   "source": [
    "add_newton_model_NF(label)"
   ]
  },
  {
   "cell_type": "code",
   "execution_count": 15,
   "id": "d7bc9b1d",
   "metadata": {},
   "outputs": [
    {
     "name": "stdout",
     "output_type": "stream",
     "text": [
      "starting is lattes for:1.2.a6935bbd.1\n",
      "is lattes complete for 1.2.a6935bbd.1\n"
     ]
    },
    {
     "data": {
      "text/plain": [
       "True"
      ]
     },
     "execution_count": 15,
     "metadata": {},
     "output_type": "execute_result"
    }
   ],
   "source": [
    "add_is_lattes_NF(label)"
   ]
  },
  {
   "cell_type": "code",
   "execution_count": 16,
   "id": "c9ae2ed4",
   "metadata": {},
   "outputs": [
    {
     "name": "stdout",
     "output_type": "stream",
     "text": [
      "True\n"
     ]
    },
    {
     "data": {
      "text/plain": [
       "['chebyshev']"
      ]
     },
     "execution_count": 16,
     "metadata": {},
     "output_type": "execute_result"
    }
   ],
   "source": [
    "query={}\n",
    "query['label']=label\n",
    "choose_display_model(label)\n",
    "my_cursor.execute(\"\"\"SELECT display_model FROM functions_dim_1_NF where label=%(label)s\"\"\",query)\n",
    "my_cursor.fetchone()"
   ]
  },
  {
   "cell_type": "code",
   "execution_count": 29,
   "id": "e16a3608",
   "metadata": {},
   "outputs": [
    {
     "name": "stdout",
     "output_type": "stream",
     "text": [
      "[[[['2', '0', '-1'], ['0', '0', '1']]]]\n"
     ]
    }
   ],
   "source": [
    "my_cursor.execute(\"\"\"SELECT (chebyshev_model).coeffs FROM functions_dim_1_NF WHERE label=%(label)s\"\"\",query)\n",
    "print(my_cursor.fetchall())"
   ]
  },
  {
   "cell_type": "code",
   "execution_count": 30,
   "id": "a4996246",
   "metadata": {},
   "outputs": [
    {
     "name": "stdout",
     "output_type": "stream",
     "text": [
      "[[None]]\n"
     ]
    }
   ],
   "source": [
    "my_cursor.execute(\"\"\"SELECT is_chebyshev FROM functions_dim_1_NF WHERE label=%(label)s\"\"\",query)\n",
    "print(my_cursor.fetchall())"
   ]
  },
  {
   "cell_type": "code",
   "execution_count": null,
   "id": "8e33d879",
   "metadata": {},
   "outputs": [],
   "source": []
  },
  {
   "cell_type": "code",
   "execution_count": 96,
   "id": "2afb132c",
   "metadata": {},
   "outputs": [
    {
     "data": {
      "text/plain": [
       "[3/2, 0, 0, 0]"
      ]
     },
     "execution_count": 96,
     "metadata": {},
     "output_type": "execute_result"
    }
   ],
   "source": [
    "f.sigma_invariants(1)"
   ]
  },
  {
   "cell_type": "code",
   "execution_count": 93,
   "id": "da1bf89b",
   "metadata": {},
   "outputs": [
    {
     "data": {
      "text/plain": [
       "(2/3*z^3 + 1/6*z^2 - 1/6)/(z^2 + 1/3*z)"
      ]
     },
     "execution_count": 93,
     "metadata": {},
     "output_type": "execute_result"
    }
   ],
   "source": [
    "R.<z>=QQ[]\n",
    "H = (z^3 + z^2+1)\n",
    "h = z - H/H.derivative(z)\n",
    "h"
   ]
  },
  {
   "cell_type": "code",
   "execution_count": 82,
   "id": "e61ee436",
   "metadata": {},
   "outputs": [
    {
     "data": {
      "text/plain": [
       "Dynamical System of Affine Space of dimension 1 over Rational Field\n",
       "  Defn: Defined on coordinates by sending (x) to\n",
       "        ((2/3*x^3 + x^2 - 1/3)/(x^2 + 2*x))"
      ]
     },
     "execution_count": 82,
     "metadata": {},
     "output_type": "execute_result"
    }
   ],
   "source": [
    "P.<x,y>=ProjectiveSpace(QQ,1)\n",
    "f=DynamicalSystem([2/3*x^3+x^2*y - 1/3*y^3, x^2*y + 2*x*y^2])\n",
    "f.dehomogenize(1)"
   ]
  },
  {
   "cell_type": "code",
   "execution_count": null,
   "id": "e4c49e5c",
   "metadata": {},
   "outputs": [],
   "source": [
    "F.is_postcritically_finite()"
   ]
  },
  {
   "cell_type": "code",
   "execution_count": null,
   "id": "ebd6af27",
   "metadata": {},
   "outputs": [],
   "source": [
    "my_cursor.execute(\"\"\"SELECT (original_model).coeffs, (original_model).base_field.label FROM functions_dim_1_NF\n",
    "    WHERE label='1.2.26124ad2.1'\n",
    "    \"\"\")\n",
    "G=my_cursor.fetchone()\n",
    "K = get_sage_field_NF(G['label']);print(K)\n",
    "P.<x,y>=ProjectiveSpace(K,1)\n",
    "R=P.coordinate_ring()\n",
    "d = len(G['coeffs'][0])-1\n",
    "F=[]\n",
    "for L in G['coeffs']:\n",
    "    print(L)\n",
    "    poly=0\n",
    "    for i in range(0,d+1):\n",
    "        poly += x^(d-i)*y^i*Integer(L[i])\n",
    "    F.append(poly)\n",
    "DynamicalSystem(F)"
   ]
  },
  {
   "cell_type": "code",
   "execution_count": null,
   "id": "71e14190",
   "metadata": {},
   "outputs": [],
   "source": [
    "get_sage_field_NF('1.1.1.1')"
   ]
  },
  {
   "cell_type": "code",
   "execution_count": 691,
   "id": "614c0fd5",
   "metadata": {},
   "outputs": [
    {
     "name": "stdout",
     "output_type": "stream",
     "text": [
      "updated 1 function for sigma.2\n",
      "\n"
     ]
    }
   ],
   "source": [
    "label='1.2.26124ad2.1'\n",
    "P.<x,y>=ProjectiveSpace(QQ,1)\n",
    "F=DynamicalSystem([x^2+3*y^2,y^2])\n",
    "sigma = {'label':label}\n",
    "for k in range(2, 3+1):\n",
    "    if k == 2:\n",
    "        sigma.update({'two':[str(t) for t in F.sigma_invariants(k)]})\n",
    "        my_cursor.execute(\"\"\"UPDATE functions_dim_1_NF\n",
    "            SET sigma_invariants.two = %(two)s\n",
    "            WHERE label=%(label)s\n",
    "            \"\"\",sigma)\n",
    "        if my_cursor.rowcount == 0:\n",
    "            print('function ' + label + 'not found \\n')\n",
    "            raise ValueError(\"function not found to update\")\n",
    "        else:\n",
    "            print('updated ' + str(my_cursor.rowcount) + ' function for sigma.' + str(k) + '\\n')     \n",
    "    if k == 3:\n",
    "        sigma.update({'three':[str(t) for t in F.sigma_invariants(k)]})\n",
    "        my_cursor.execute(\"\"\"UPDATE functions_dim_1_NF\n",
    "            SET sigma_invariants.three = %(three)s\n",
    "            WHERE label=%(label)s\n",
    "            \"\"\",sigma)"
   ]
  },
  {
   "cell_type": "code",
   "execution_count": 680,
   "id": "125631b5",
   "metadata": {},
   "outputs": [
    {
     "name": "stdout",
     "output_type": "stream",
     "text": [
      "None\n",
      "[['1.2.26124ad2.1', 1, 2, '(,1.1.1.1,1)', '(\"{2,12,0}\",\"{12,-240,-512,36864,0}\",\"{56,8256,114688,16842752,-260308992,32305315840,65458405376,53293212499968,0}\")', None, None, '(\"{{1,0,3},{0,0,1}}\",1,{},,\"(,1.1.1.1,1)\",\"{1,0,0,1}\",1.1.1.1)', None, None, None, None, None, None, None, None, None, None, None, None, None, None, None, None, None, None, None, None, None]]\n"
     ]
    }
   ],
   "source": []
  },
  {
   "cell_type": "code",
   "execution_count": null,
   "id": "d9b644b5",
   "metadata": {},
   "outputs": [],
   "source": []
  },
  {
   "cell_type": "code",
   "execution_count": 619,
   "id": "31284c39",
   "metadata": {},
   "outputs": [
    {
     "data": {
      "text/plain": [
       "(Dynamical System of Projective Space of dimension 1 over Rational Field\n",
       "   Defn: Defined on coordinates by sending (x : y) to\n",
       "         (x^2 + 3*y^2 : y^2),\n",
       " Identity endomorphism of Rational Field)"
      ]
     },
     "execution_count": 619,
     "metadata": {},
     "output_type": "execute_result"
    }
   ],
   "source": [
    "normalize_function_NF(F)"
   ]
  },
  {
   "cell_type": "code",
   "execution_count": 620,
   "id": "6e4374ba",
   "metadata": {},
   "outputs": [
    {
     "data": {
      "text/plain": [
       "[]"
      ]
     },
     "execution_count": 620,
     "metadata": {},
     "output_type": "execute_result"
    }
   ],
   "source": [
    "model_in_database_NF(F)"
   ]
  },
  {
   "cell_type": "code",
   "execution_count": 665,
   "id": "143bcbaf",
   "metadata": {},
   "outputs": [
    {
     "ename": "InFailedSqlTransaction",
     "evalue": "current transaction is aborted, commands ignored until end of transaction block\n",
     "output_type": "error",
     "traceback": [
      "\u001b[0;31m---------------------------------------------------------------------------\u001b[0m",
      "\u001b[0;31mInFailedSqlTransaction\u001b[0m                    Traceback (most recent call last)",
      "Cell \u001b[0;32mIn [665], line 1\u001b[0m\n\u001b[0;32m----> 1\u001b[0m \u001b[43madd_function\u001b[49m\u001b[43m(\u001b[49m\u001b[43mF\u001b[49m\u001b[43m)\u001b[49m\n",
      "File \u001b[0;32m~/Dropbox/VBShare/Database/functions/function_dim_1_helpers.py:233\u001b[0m, in \u001b[0;36madd_function\u001b[0;34m(F, citations, family, keywords, action, bool_add_field, log_file, timeout)\u001b[0m\n\u001b[1;32m    222\u001b[0m base_field \u001b[38;5;241m=\u001b[39m F\u001b[38;5;241m.\u001b[39mbase_ring()\n\u001b[1;32m    223\u001b[0m \u001b[38;5;66;03m#if isinstance(base_field, (PolynomialRing_general, MPolynomialRing_base))\\\u001b[39;00m\n\u001b[1;32m    224\u001b[0m \u001b[38;5;66;03m#  or base_field in FunctionFields() or is_FractionField(base_field):\u001b[39;00m\n\u001b[1;32m    225\u001b[0m \u001b[38;5;66;03m#    f['num_parameters'] = int(base_field.ngens())\u001b[39;00m\n\u001b[0;32m   (...)\u001b[0m\n\u001b[1;32m    230\u001b[0m \u001b[38;5;66;03m#    F, phi = normalize_function(F, log_file=log_file)\u001b[39;00m\n\u001b[1;32m    231\u001b[0m \u001b[38;5;66;03m#    base_field = F.base_ring()\u001b[39;00m\n\u001b[0;32m--> 233\u001b[0m \u001b[38;5;28mbool\u001b[39m, K_id \u001b[38;5;241m=\u001b[39m \u001b[43mfield_in_database_NF\u001b[49m\u001b[43m(\u001b[49m\u001b[43mbase_field\u001b[49m\u001b[43m)\u001b[49m\n\u001b[1;32m    234\u001b[0m K_id \u001b[38;5;241m=\u001b[39m K_id\n\u001b[1;32m    235\u001b[0m \u001b[38;5;28;01mif\u001b[39;00m \u001b[38;5;129;01mnot\u001b[39;00m \u001b[38;5;28mbool\u001b[39m:\n",
      "File \u001b[0;32m~/Dropbox/VBShare/Database/fields/field_helpers.py:68\u001b[0m, in \u001b[0;36mfield_in_database_NF\u001b[0;34m(K, log_file)\u001b[0m\n\u001b[1;32m     66\u001b[0m D \u001b[38;5;241m=\u001b[39m {}\n\u001b[1;32m     67\u001b[0m D[\u001b[38;5;124m'\u001b[39m\u001b[38;5;124mdefn_poly_coeffs\u001b[39m\u001b[38;5;124m'\u001b[39m] \u001b[38;5;241m=\u001b[39m [\u001b[38;5;28mint\u001b[39m(t) \u001b[38;5;28;01mfor\u001b[39;00m t \u001b[38;5;129;01min\u001b[39;00m K\u001b[38;5;241m.\u001b[39mdefining_polynomial()\u001b[38;5;241m.\u001b[39mcoefficients(sparse\u001b[38;5;241m=\u001b[39m\u001b[38;5;28;01mFalse\u001b[39;00m)]\n\u001b[0;32m---> 68\u001b[0m \u001b[43mmy_cursor\u001b[49m\u001b[38;5;241;43m.\u001b[39;49m\u001b[43mexecute\u001b[49m\u001b[43m(\u001b[49m\u001b[38;5;124;43m\"\"\"\u001b[39;49m\u001b[38;5;124;43mSELECT label FROM number_fields WHERE defn_poly_coeffs=\u001b[39;49m\u001b[38;5;132;43;01m%(defn_poly_coeffs)s\u001b[39;49;00m\u001b[38;5;124;43m\"\"\"\u001b[39;49m\u001b[43m,\u001b[49m\u001b[43mD\u001b[49m\u001b[43m)\u001b[49m\n\u001b[1;32m     69\u001b[0m label \u001b[38;5;241m=\u001b[39m my_cursor\u001b[38;5;241m.\u001b[39mfetchone()[\u001b[38;5;241m0\u001b[39m]\n\u001b[1;32m     70\u001b[0m \u001b[38;5;28;01mif\u001b[39;00m label \u001b[38;5;129;01mis\u001b[39;00m \u001b[38;5;28;01mNone\u001b[39;00m:\n",
      "File \u001b[0;32m~/sage-rel/local/var/lib/sage/venv-python3.8/lib/python3.8/site-packages/psycopg2/extras.py:146\u001b[0m, in \u001b[0;36mDictCursor.execute\u001b[0;34m(self, query, vars)\u001b[0m\n\u001b[1;32m    144\u001b[0m \u001b[38;5;28mself\u001b[39m\u001b[38;5;241m.\u001b[39mindex \u001b[38;5;241m=\u001b[39m OrderedDict()\n\u001b[1;32m    145\u001b[0m \u001b[38;5;28mself\u001b[39m\u001b[38;5;241m.\u001b[39m_query_executed \u001b[38;5;241m=\u001b[39m \u001b[38;5;28;01mTrue\u001b[39;00m\n\u001b[0;32m--> 146\u001b[0m \u001b[38;5;28;01mreturn\u001b[39;00m \u001b[38;5;28;43msuper\u001b[39;49m\u001b[43m(\u001b[49m\u001b[43m)\u001b[49m\u001b[38;5;241;43m.\u001b[39;49m\u001b[43mexecute\u001b[49m\u001b[43m(\u001b[49m\u001b[43mquery\u001b[49m\u001b[43m,\u001b[49m\u001b[43m \u001b[49m\u001b[38;5;28;43mvars\u001b[39;49m\u001b[43m)\u001b[49m\n",
      "\u001b[0;31mInFailedSqlTransaction\u001b[0m: current transaction is aborted, commands ignored until end of transaction block\n"
     ]
    }
   ],
   "source": [
    "add_function(F)"
   ]
  },
  {
   "cell_type": "code",
   "execution_count": 481,
   "id": "edf88864",
   "metadata": {},
   "outputs": [
    {
     "data": {
      "text/plain": [
       "<class 'str'>"
      ]
     },
     "execution_count": 481,
     "metadata": {},
     "output_type": "execute_result"
    }
   ],
   "source": [
    "type(field_in_database_NF(QQ)[1])"
   ]
  },
  {
   "cell_type": "code",
   "execution_count": 482,
   "id": "6ad3f057",
   "metadata": {},
   "outputs": [
    {
     "name": "stdout",
     "output_type": "stream",
     "text": [
      "<class 'int'> 2\n",
      "<class 'int'> 1\n",
      "<class 'str'> Number Field\n",
      "<class 'str'> 1.1.1.1\n",
      "<class 'int'> 1\n",
      "<class 'list'> ['2', '4', '0']\n",
      "<class 'str'> 1.2.1a2a6bbf.1\n",
      "<class 'list'> []\n",
      "<class 'list'> []\n",
      "<class 'list'> [[1, 0, 1], [0, 0, 1]]\n",
      "<class 'str'> 1\n",
      "<class 'list'> []\n",
      "<class 'float'> 0.0\n",
      "<class 'str'> 1.1.1.1\n",
      "<class 'int'> 1\n",
      "<class 'str'> [1, 0, 0, 1]\n",
      "<class 'str'> 1.1.1.1\n",
      "<class 'str'> original\n"
     ]
    }
   ],
   "source": [
    "for k in Out[198].values():\n",
    "    print(type(k),k)"
   ]
  },
  {
   "cell_type": "code",
   "execution_count": 58,
   "id": "a904dc30",
   "metadata": {},
   "outputs": [
    {
     "data": {
      "text/plain": [
       "Category of number fields"
      ]
     },
     "execution_count": 58,
     "metadata": {},
     "output_type": "execute_result"
    }
   ],
   "source": [
    "NumberFields()"
   ]
  },
  {
   "cell_type": "code",
   "execution_count": 8,
   "id": "aee8273e",
   "metadata": {},
   "outputs": [
    {
     "ename": "TypeError",
     "evalue": "coefficients() takes no keyword arguments",
     "output_type": "error",
     "traceback": [
      "\u001b[0;31m---------------------------------------------------------------------------\u001b[0m",
      "\u001b[0;31mTypeError\u001b[0m                                 Traceback (most recent call last)",
      "Cell \u001b[0;32mIn [8], line 2\u001b[0m\n\u001b[1;32m      1\u001b[0m g1\u001b[38;5;241m=\u001b[39mF[Integer(\u001b[38;5;241m0\u001b[39m)]\n\u001b[0;32m----> 2\u001b[0m \u001b[43mg1\u001b[49m\u001b[38;5;241;43m.\u001b[39;49m\u001b[43mcoefficients\u001b[49m\u001b[43m(\u001b[49m\u001b[43msparse\u001b[49m\u001b[38;5;241;43m=\u001b[39;49m\u001b[38;5;28;43;01mFalse\u001b[39;49;00m\u001b[43m)\u001b[49m\n",
      "\u001b[0;31mTypeError\u001b[0m: coefficients() takes no keyword arguments"
     ]
    }
   ],
   "source": [
    "g1=F[0]\n",
    "g1.coefficients(sparse=False)"
   ]
  },
  {
   "cell_type": "code",
   "execution_count": 23,
   "id": "7f56dc1e",
   "metadata": {},
   "outputs": [
    {
     "name": "stdout",
     "output_type": "stream",
     "text": [
      "(x, y)\n"
     ]
    },
    {
     "data": {
      "text/plain": [
       "[1, 0, 1]"
      ]
     },
     "execution_count": 23,
     "metadata": {},
     "output_type": "execute_result"
    }
   ],
   "source": [
    "C=[]\n",
    "print(g1.parent().gens())\n",
    "d=g1.degree()\n",
    "for i in range(0,d+1):\n",
    "    C.append(g1.coefficient({x:d-i,y:i}))\n",
    "C"
   ]
  },
  {
   "cell_type": "code",
   "execution_count": 21,
   "id": "e685906c",
   "metadata": {},
   "outputs": [
    {
     "data": {
      "text/plain": [
       "x^2 + y^2"
      ]
     },
     "execution_count": 21,
     "metadata": {},
     "output_type": "execute_result"
    }
   ],
   "source": [
    "if not label is None:\n",
    "    f = functions.find_one({'label':label})\n",
    "if f is None:\n",
    "    raise ValueError('no function specified')\n",
    "\n",
    "base_field = get_sage_field(f['models'][model_name]['base_field_label'], f['base_field_type'],\\\n",
    "            emb_index=f['models'][model_name]['base_field_emb'])\n",
    "num_parameters = f['models'][model_name]['num_parameters']\n",
    "if num_parameters != 0:\n",
    "    R = PolynomialRing(base_field, num_parameters, 't')\n",
    "    P = ProjectiveSpace(f['N'], R, f['models'][model_name]['polys']['vars'])\n",
    "    var_dict = P.coordinate_ring().gens_dict()\n",
    "    var_dict.update(R.gens_dict())\n",
    "else:\n",
    "    P = ProjectiveSpace(f['N'], base_field, f['models'][model_name]['polys']['vars'])\n",
    "    var_dict = P.coordinate_ring().gens_dict()\n",
    "var_dict.update(base_field.gens_dict())\n",
    "polys = sage_eval(f['models'][model_name]['polys']['val'], var_dict)\n",
    "return DynamicalSystem(polys, domain=P)"
   ]
  },
  {
   "cell_type": "code",
   "execution_count": 16,
   "id": "63dc2b4a",
   "metadata": {},
   "outputs": [
    {
     "data": {
      "text/plain": [
       "-3"
      ]
     },
     "execution_count": 16,
     "metadata": {},
     "output_type": "execute_result"
    }
   ],
   "source": [
    "d-5"
   ]
  },
  {
   "cell_type": "code",
   "execution_count": 24,
   "id": "a8d3d081",
   "metadata": {},
   "outputs": [],
   "source": [
    "my_session.commit()"
   ]
  },
  {
   "cell_type": "code",
   "execution_count": null,
   "id": "413c4382",
   "metadata": {},
   "outputs": [],
   "source": []
  }
 ],
 "metadata": {
  "kernelspec": {
   "display_name": "SageMath 10.0",
   "language": "sage",
   "name": "sagemath"
  },
  "language_info": {
   "codemirror_mode": {
    "name": "ipython",
    "version": 3
   },
   "file_extension": ".py",
   "mimetype": "text/x-python",
   "name": "python",
   "nbconvert_exporter": "python",
   "pygments_lexer": "ipython3",
   "version": "3.8.10"
  }
 },
 "nbformat": 4,
 "nbformat_minor": 5
}
